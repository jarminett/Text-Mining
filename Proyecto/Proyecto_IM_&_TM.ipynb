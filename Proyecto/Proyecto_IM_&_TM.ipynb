{
  "nbformat": 4,
  "nbformat_minor": 0,
  "metadata": {
    "colab": {
      "name": "Copy of Proyecto IM & TM.ipynb",
      "provenance": [],
      "collapsed_sections": []
    },
    "kernelspec": {
      "name": "python3",
      "display_name": "Python 3"
    },
    "language_info": {
      "name": "python"
    }
  },
  "cells": [
    {
      "cell_type": "markdown",
      "metadata": {
        "id": "gcN8K3FIOmV8"
      },
      "source": [
        "## **Universidad Galileo**\n",
        "## **Maestría en Data Science**\n",
        "## **Text Mining & Image Recognition**\n",
        "## **Antonio Everardo Navas Contreras, 14003163**\n",
        "## **Daniel Josué Rodríguez Paiz, 09001437**\n",
        "## **Luis Miguel Florian López, 0710082**\n",
        "## **30/09/2021**\n",
        "\n",
        "---\n",
        "\n",
        "## **PROYECTO FINAL**\n",
        "\n",
        "---"
      ]
    },
    {
      "cell_type": "markdown",
      "metadata": {
        "id": "WVO3TES0bgPR"
      },
      "source": [
        "# Análisis de Sentimientos - Trilogía de El Señor de los Anillos \n",
        "\n",
        "El objetivo de este proyecto es realizar un análisis de sentimientos por medio de técnicas de Text Mining \n",
        "\n",
        "El dataset es un un archivo en formato CSV que cuenta con una entrada por cada línea de dialogo de los personajes de la trilogía. Este se ha obtenido de el siguiente enlace de Kaggle:\n",
        "\n",
        "https://www.kaggle.com/paultimothymooney/lord-of-the-rings-data?select=lotr_scripts.csv"
      ]
    },
    {
      "cell_type": "markdown",
      "metadata": {
        "id": "---Rx3yY-mCj"
      },
      "source": [
        "### **Importing Libraries**"
      ]
    },
    {
      "cell_type": "code",
      "metadata": {
        "colab": {
          "base_uri": "https://localhost:8080/"
        },
        "id": "OZn5iCWd-Qwk",
        "outputId": "c1b207ca-2892-407d-aa7a-0f760509dbbf"
      },
      "source": [
        "!pip install NRCLex"
      ],
      "execution_count": null,
      "outputs": [
        {
          "output_type": "stream",
          "name": "stdout",
          "text": [
            "Requirement already satisfied: NRCLex in /usr/local/lib/python3.7/dist-packages (3.0.0)\n",
            "Requirement already satisfied: textblob in /usr/local/lib/python3.7/dist-packages (from NRCLex) (0.15.3)\n",
            "Requirement already satisfied: nltk>=3.1 in /usr/local/lib/python3.7/dist-packages (from textblob->NRCLex) (3.2.5)\n",
            "Requirement already satisfied: six in /usr/local/lib/python3.7/dist-packages (from nltk>=3.1->textblob->NRCLex) (1.15.0)\n"
          ]
        }
      ]
    },
    {
      "cell_type": "code",
      "metadata": {
        "id": "EutKUlMubeM0",
        "colab": {
          "base_uri": "https://localhost:8080/"
        },
        "outputId": "f5612372-3379-4032-a12a-2656d657cbfc"
      },
      "source": [
        "import pandas as pd\n",
        "import numpy as np\n",
        "import seaborn as sns\n",
        "import matplotlib.pyplot as plt\n",
        "import nltk\n",
        "import re\n",
        "from nltk.stem import PorterStemmer\n",
        "from nltk.stem import WordNetLemmatizer\n",
        "from keras.preprocessing.text import text_to_word_sequence, Tokenizer\n",
        "from nltk.sentiment import SentimentIntensityAnalyzer\n",
        "from nltk.tokenize import word_tokenize\n",
        "from nrclex import NRCLex\n",
        "from collections import Counter\n",
        "import nltk\n",
        "from sklearn.feature_extraction.text import TfidfVectorizer\n",
        "nltk.download('vader_lexicon')\n",
        "from nltk.sentiment.vader import SentimentIntensityAnalyzer\n",
        "from IPython.display import Markdown, display\n",
        "from wordcloud import WordCloud, STOPWORDS\n",
        "from PIL import Image\n",
        "sid = SentimentIntensityAnalyzer()"
      ],
      "execution_count": null,
      "outputs": [
        {
          "output_type": "stream",
          "name": "stdout",
          "text": [
            "[nltk_data] Downloading package vader_lexicon to /root/nltk_data...\n",
            "[nltk_data]   Package vader_lexicon is already up-to-date!\n"
          ]
        }
      ]
    },
    {
      "cell_type": "markdown",
      "metadata": {
        "id": "iQ4PceHiM7e6"
      },
      "source": [
        "### **Cargar, preparar y explorar el dataset**"
      ]
    },
    {
      "cell_type": "markdown",
      "metadata": {
        "id": "ptlyPJjXcoM1"
      },
      "source": [
        "TODO\n",
        "- tokenizar\n",
        "- Cantidad de palabras totales por pelicula, grafiquita de frecuencia\n",
        "- Top 10 (15?) de personajes con más participación en la trilogía, grafiquita de frecuencia\n",
        "- top 10 de participación por pelicula, grafiquita de frecuencia\n",
        "- Eliminación de stop words\n",
        "- lemantización\n",
        "- tf-idf\n",
        "- palabras con más frecuencia en la trilogía BACKLOG\n",
        "- palabras con más frecuencia por pelicula BACKLOG\n",
        "- Análisis de Sentimientos (método a definir vader o naive bayes) \n",
        "- Sentimientos Negativos\n",
        "- Sentimientos Positivos\n",
        "- Análisis de sentimientos de personajes más participativos\n"
      ]
    },
    {
      "cell_type": "markdown",
      "metadata": {
        "id": "8JcxKq2_JPha"
      },
      "source": [
        "#### **Exploración de Datos**"
      ]
    },
    {
      "cell_type": "code",
      "metadata": {
        "colab": {
          "base_uri": "https://localhost:8080/",
          "height": 364
        },
        "id": "elfoDZrackNA",
        "outputId": "cdfd63df-2400-4c7f-a35d-e600f101055c"
      },
      "source": [
        "lotr_df = pd.read_csv(\"lotr_scripts.csv\")\n",
        "lotr_df.head(10)"
      ],
      "execution_count": null,
      "outputs": [
        {
          "output_type": "execute_result",
          "data": {
            "text/html": [
              "<div>\n",
              "<style scoped>\n",
              "    .dataframe tbody tr th:only-of-type {\n",
              "        vertical-align: middle;\n",
              "    }\n",
              "\n",
              "    .dataframe tbody tr th {\n",
              "        vertical-align: top;\n",
              "    }\n",
              "\n",
              "    .dataframe thead th {\n",
              "        text-align: right;\n",
              "    }\n",
              "</style>\n",
              "<table border=\"1\" class=\"dataframe\">\n",
              "  <thead>\n",
              "    <tr style=\"text-align: right;\">\n",
              "      <th></th>\n",
              "      <th>Unnamed: 0</th>\n",
              "      <th>char</th>\n",
              "      <th>dialog</th>\n",
              "      <th>movie</th>\n",
              "    </tr>\n",
              "  </thead>\n",
              "  <tbody>\n",
              "    <tr>\n",
              "      <th>0</th>\n",
              "      <td>0</td>\n",
              "      <td>DEAGOL</td>\n",
              "      <td>Oh Smeagol Ive got one! , Ive got a fish Smeag...</td>\n",
              "      <td>The Return of the King</td>\n",
              "    </tr>\n",
              "    <tr>\n",
              "      <th>1</th>\n",
              "      <td>1</td>\n",
              "      <td>SMEAGOL</td>\n",
              "      <td>Pull it in! Go on, go on, go on, pull it in!</td>\n",
              "      <td>The Return of the King</td>\n",
              "    </tr>\n",
              "    <tr>\n",
              "      <th>2</th>\n",
              "      <td>2</td>\n",
              "      <td>DEAGOL</td>\n",
              "      <td>Arrghh!</td>\n",
              "      <td>The Return of the King</td>\n",
              "    </tr>\n",
              "    <tr>\n",
              "      <th>3</th>\n",
              "      <td>3</td>\n",
              "      <td>SMEAGOL</td>\n",
              "      <td>Deagol!</td>\n",
              "      <td>The Return of the King</td>\n",
              "    </tr>\n",
              "    <tr>\n",
              "      <th>4</th>\n",
              "      <td>4</td>\n",
              "      <td>SMEAGOL</td>\n",
              "      <td>Deagol!</td>\n",
              "      <td>The Return of the King</td>\n",
              "    </tr>\n",
              "    <tr>\n",
              "      <th>5</th>\n",
              "      <td>5</td>\n",
              "      <td>SMEAGOL</td>\n",
              "      <td>Deagol!</td>\n",
              "      <td>The Return of the King</td>\n",
              "    </tr>\n",
              "    <tr>\n",
              "      <th>6</th>\n",
              "      <td>6</td>\n",
              "      <td>SMEAGOL</td>\n",
              "      <td>Give us that! Deagol my love</td>\n",
              "      <td>The Return of the King</td>\n",
              "    </tr>\n",
              "    <tr>\n",
              "      <th>7</th>\n",
              "      <td>7</td>\n",
              "      <td>DEAGOL</td>\n",
              "      <td>Why?</td>\n",
              "      <td>The Return of the King</td>\n",
              "    </tr>\n",
              "    <tr>\n",
              "      <th>8</th>\n",
              "      <td>8</td>\n",
              "      <td>SMEAGOL</td>\n",
              "      <td>Because' , it's my birthday and I wants it.</td>\n",
              "      <td>The Return of the King</td>\n",
              "    </tr>\n",
              "    <tr>\n",
              "      <th>9</th>\n",
              "      <td>9</td>\n",
              "      <td>SMEAGOL</td>\n",
              "      <td>My precious.</td>\n",
              "      <td>The Return of the King</td>\n",
              "    </tr>\n",
              "  </tbody>\n",
              "</table>\n",
              "</div>"
            ],
            "text/plain": [
              "   Unnamed: 0  ...                    movie\n",
              "0           0  ...  The Return of the King \n",
              "1           1  ...  The Return of the King \n",
              "2           2  ...  The Return of the King \n",
              "3           3  ...  The Return of the King \n",
              "4           4  ...  The Return of the King \n",
              "5           5  ...  The Return of the King \n",
              "6           6  ...  The Return of the King \n",
              "7           7  ...  The Return of the King \n",
              "8           8  ...  The Return of the King \n",
              "9           9  ...  The Return of the King \n",
              "\n",
              "[10 rows x 4 columns]"
            ]
          },
          "metadata": {},
          "execution_count": 43
        }
      ]
    },
    {
      "cell_type": "code",
      "metadata": {
        "colab": {
          "base_uri": "https://localhost:8080/"
        },
        "id": "JVmnXOXknSkb",
        "outputId": "7fab4438-966b-4ce5-969a-1aa8a037f796"
      },
      "source": [
        "print(\"Shape dataset original:\", lotr_df.shape)"
      ],
      "execution_count": null,
      "outputs": [
        {
          "output_type": "stream",
          "name": "stdout",
          "text": [
            "Shape dataset original: (2388, 4)\n"
          ]
        }
      ]
    },
    {
      "cell_type": "code",
      "metadata": {
        "id": "YYyJGSFldJQA",
        "colab": {
          "base_uri": "https://localhost:8080/"
        },
        "outputId": "ed8bd9eb-db3e-4864-94bc-680575b1d120"
      },
      "source": [
        "lotr_df.info()"
      ],
      "execution_count": null,
      "outputs": [
        {
          "output_type": "stream",
          "name": "stdout",
          "text": [
            "<class 'pandas.core.frame.DataFrame'>\n",
            "RangeIndex: 2388 entries, 0 to 2387\n",
            "Data columns (total 4 columns):\n",
            " #   Column      Non-Null Count  Dtype \n",
            "---  ------      --------------  ----- \n",
            " 0   Unnamed: 0  2388 non-null   int64 \n",
            " 1   char        2388 non-null   object\n",
            " 2   dialog      2388 non-null   object\n",
            " 3   movie       2388 non-null   object\n",
            "dtypes: int64(1), object(3)\n",
            "memory usage: 74.8+ KB\n"
          ]
        }
      ]
    },
    {
      "cell_type": "code",
      "metadata": {
        "colab": {
          "base_uri": "https://localhost:8080/"
        },
        "id": "8q67QmQbvdYK",
        "outputId": "a49361d9-aa4f-4b95-cfda-e88922b8bdcc"
      },
      "source": [
        "# Revisar valores unicos en cada variable\n",
        "\n",
        "for i in lotr_df.columns:\n",
        "  #print(i, ':\\n', np.unique(str(lotr_df[i])), '\\n')\n",
        "  print(i, ':\\n', np.unique(list(lotr_df[i])), '\\n')"
      ],
      "execution_count": null,
      "outputs": [
        {
          "output_type": "stream",
          "name": "stdout",
          "text": [
            "Unnamed: 0 :\n",
            " [   0    1    2 ... 2385 2386 2387] \n",
            "\n",
            "char :\n",
            " ['(GOLLUM' 'ARAGORN' 'ARAGORN ' 'ARGORN' 'ARMY' 'ARWEN' 'ARWEN VOICEOVER'\n",
            " 'BARLIMAN' 'BILBO' 'BILBO VOICEOVER' 'BOROMIR' 'BOROMIR ' 'BOSON'\n",
            " 'CAPTAIN' 'CHILDREN HOBBITS' 'CROWD' 'DAMROD' 'DEAGOL' 'DENETHOR'\n",
            " 'ELROND' 'ELROND VOICEOVER' 'EOMER' 'EOTHAIN' 'EOWYN' 'EOWYN/MERRY'\n",
            " 'EYE OF SAURON' 'FARAMIR' 'FARMER MAGGOT' 'FIGWIT' 'FREDA' 'FRODO'\n",
            " 'FRODO ' 'FRODO VOICE' 'FRODO VOICE OVER' 'GAFFER' 'GALADRIEL'\n",
            " 'GALADRIEL VOICE OVER' 'GALADRIEL VOICE-OVER' 'GALADRIEL VOICEOVER'\n",
            " 'GALADRIL' 'GAMLING' 'GAN DALF' 'GANDALF' 'GANDALF VOICE OVER'\n",
            " 'GANDALF VOICEOVER' 'GATEKEEPER' 'GATEKEEPR' 'GENERAL' 'GENERAL SHOUT'\n",
            " 'GIMLI' 'GOLLUM' 'GORBAG' 'GOTHMOG' 'GRIMA' 'GRIMBOLD' 'GRISHNAK'\n",
            " 'GRISHNAKH' 'HALDIR' 'HAMA' 'HOBBIT' 'IROLAS' 'KING OF THE DEAD' 'LADY'\n",
            " 'LEGOLAS' 'MADRIL' 'MAN' 'MEN' 'MERCENARY' 'MERRY' 'MERRY AND PIPPIN'\n",
            " 'MERRY and PIPPIN' 'MORWEN' 'MOUTH OF SAURON' 'MRS BRACEGIRDLE' 'NOAKES'\n",
            " 'OLD MAN' 'ORC' 'ORCS' 'PEOPLE' 'PIPPIN' 'PROUDFOOT HOBBIT' 'RING'\n",
            " 'ROHAN HORSEMAN' 'ROHAN STABLEMAN' 'ROHIRRIM' 'ROSIE' 'SAM' 'SAM '\n",
            " 'SAM VOICEOVER' 'SANDYMAN' 'SARUMAN' 'SARUMAN VOICE OVER'\n",
            " 'SARUMAN VOICE OVER ' 'SARUMAN VOICEOVER' 'SAURON' 'SAURON VOICE'\n",
            " 'SHAGRAT' 'SHARKU' 'SMEAGOL' 'SNAGA' 'SOLDIER' 'SOLDIER 1' 'SOLDIER 2'\n",
            " 'SOLDIERS' 'SOLDIERS IN MINAS TIRITH' 'SOLDIERS ON GATE' 'STRIDER'\n",
            " 'THEODEN' 'TREEBEARD' 'UGLUK' 'URUK HAI' 'URUK-HAI' 'VOICE'\n",
            " 'WHITE WIZARD' 'WILDMAN' 'WITCH KING' 'WOMAN'] \n",
            "\n",
            "dialog :\n",
            " [' ' '     ' '            ' ...\n",
            " 'lt is the only way. Master says we must go to Mordor, so we must try.          '\n",
            " 'lt is!          ' \"uhh huh , I feel like I'm back at the Green Dragon. \"] \n",
            "\n",
            "movie :\n",
            " ['The Fellowship of the Ring ' 'The Return of the King ' 'The Two Towers '] \n",
            "\n"
          ]
        }
      ]
    },
    {
      "cell_type": "code",
      "metadata": {
        "colab": {
          "base_uri": "https://localhost:8080/"
        },
        "id": "YC3P4g5Ks850",
        "outputId": "e220ce7b-bfa7-47d4-9bce-6a485ed0db9d"
      },
      "source": [
        "# Nombres de las películas\n",
        "\n",
        "movies_name = np.unique(lotr_df['movie'])\n",
        "movies_name"
      ],
      "execution_count": null,
      "outputs": [
        {
          "output_type": "execute_result",
          "data": {
            "text/plain": [
              "array(['The Fellowship of the Ring ', 'The Return of the King ',\n",
              "       'The Two Towers '], dtype=object)"
            ]
          },
          "metadata": {},
          "execution_count": 47
        }
      ]
    },
    {
      "cell_type": "code",
      "metadata": {
        "colab": {
          "base_uri": "https://localhost:8080/"
        },
        "id": "cwMJQaXEPzvg",
        "outputId": "aba651a1-9de8-49f4-fac9-d55fb6c7e624"
      },
      "source": [
        "characters_name = np.unique(lotr_df['char'])\n",
        "characters_name"
      ],
      "execution_count": null,
      "outputs": [
        {
          "output_type": "execute_result",
          "data": {
            "text/plain": [
              "array(['(GOLLUM', 'ARAGORN', 'ARAGORN ', 'ARGORN', 'ARMY', 'ARWEN',\n",
              "       'ARWEN VOICEOVER', 'BARLIMAN', 'BILBO', 'BILBO VOICEOVER',\n",
              "       'BOROMIR', 'BOROMIR ', 'BOSON', 'CAPTAIN', 'CHILDREN HOBBITS',\n",
              "       'CROWD', 'DAMROD', 'DEAGOL', 'DENETHOR', 'ELROND',\n",
              "       'ELROND VOICEOVER', 'EOMER', 'EOTHAIN', 'EOWYN', 'EOWYN/MERRY',\n",
              "       'EYE OF SAURON', 'FARAMIR', 'FARMER MAGGOT', 'FIGWIT', 'FREDA',\n",
              "       'FRODO', 'FRODO ', 'FRODO VOICE', 'FRODO VOICE OVER', 'GAFFER',\n",
              "       'GALADRIEL', 'GALADRIEL VOICE OVER', 'GALADRIEL VOICE-OVER',\n",
              "       'GALADRIEL VOICEOVER', 'GALADRIL', 'GAMLING', 'GAN DALF',\n",
              "       'GANDALF', 'GANDALF VOICE OVER', 'GANDALF VOICEOVER', 'GATEKEEPER',\n",
              "       'GATEKEEPR', 'GENERAL', 'GENERAL SHOUT', 'GIMLI', 'GOLLUM',\n",
              "       'GORBAG', 'GOTHMOG', 'GRIMA', 'GRIMBOLD', 'GRISHNAK', 'GRISHNAKH',\n",
              "       'HALDIR', 'HAMA', 'HOBBIT', 'IROLAS', 'KING OF THE DEAD', 'LADY',\n",
              "       'LEGOLAS', 'MADRIL', 'MAN', 'MEN', 'MERCENARY', 'MERRY',\n",
              "       'MERRY AND PIPPIN', 'MERRY and PIPPIN', 'MORWEN',\n",
              "       'MOUTH OF SAURON', 'MRS BRACEGIRDLE', 'NOAKES', 'OLD MAN', 'ORC',\n",
              "       'ORCS', 'PEOPLE', 'PIPPIN', 'PROUDFOOT HOBBIT', 'RING',\n",
              "       'ROHAN HORSEMAN', 'ROHAN STABLEMAN', 'ROHIRRIM', 'ROSIE', 'SAM',\n",
              "       'SAM ', 'SAM VOICEOVER', 'SANDYMAN', 'SARUMAN',\n",
              "       'SARUMAN VOICE OVER', 'SARUMAN VOICE OVER ', 'SARUMAN VOICEOVER',\n",
              "       'SAURON', 'SAURON VOICE', 'SHAGRAT', 'SHARKU', 'SMEAGOL', 'SNAGA',\n",
              "       'SOLDIER', 'SOLDIER 1', 'SOLDIER 2', 'SOLDIERS',\n",
              "       'SOLDIERS IN MINAS TIRITH', 'SOLDIERS ON GATE', 'STRIDER',\n",
              "       'THEODEN', 'TREEBEARD', 'UGLUK', 'URUK HAI', 'URUK-HAI', 'VOICE',\n",
              "       'WHITE WIZARD', 'WILDMAN', 'WITCH KING', 'WOMAN'], dtype=object)"
            ]
          },
          "metadata": {},
          "execution_count": 48
        }
      ]
    },
    {
      "cell_type": "code",
      "metadata": {
        "id": "xN5vgA8Ox3hm",
        "colab": {
          "base_uri": "https://localhost:8080/"
        },
        "outputId": "220751c8-f1fa-4bd8-c9be-67076a801e67"
      },
      "source": [
        "# Separar los datasets por película\n",
        "\n",
        "TFOTR = lotr_df.iloc[np.where(lotr_df['movie'] == movies_name[0])]\n",
        "TROTHK  = lotr_df.iloc[np.where(lotr_df['movie'] == movies_name[1])]\n",
        "TTT  = lotr_df.iloc[np.where(lotr_df['movie'] == movies_name[2])]\n",
        "\n",
        "print('Total de diálogos en \"The Fellowship of the Ring\": ', TFOTR.shape[0])\n",
        "print('Total de diálogos en \"The Two Towers\":             ', TTT.shape[0])\n",
        "print('Total de diálogos en \"The Return of the King\":     ', TROTHK.shape[0])"
      ],
      "execution_count": null,
      "outputs": [
        {
          "output_type": "stream",
          "name": "stdout",
          "text": [
            "Total de diálogos en \"The Fellowship of the Ring\":  505\n",
            "Total de diálogos en \"The Two Towers\":              1010\n",
            "Total de diálogos en \"The Return of the King\":      873\n"
          ]
        }
      ]
    },
    {
      "cell_type": "code",
      "metadata": {
        "colab": {
          "base_uri": "https://localhost:8080/",
          "height": 301
        },
        "id": "vNp_bW01KUkr",
        "outputId": "4304108c-d453-4099-d0ff-904661c6cb51"
      },
      "source": [
        "# Histograma de Total de Dialogos de cada película\n",
        "\n",
        "total_dialogs = pd.DataFrame({'Movie' : ['TFOTR', 'TTT','TROTHK'],\n",
        "                              'Total Dialogs' : [TFOTR.shape[0], TTT.shape[0], TROTHK.shape[0]]})\n",
        "sns.barplot(data=total_dialogs, x='Movie', y='Total Dialogs')\n",
        "plt.title(\"Total de dialogos por película\", fontdict={\"fontsize\":20, \"color\":\"black\"})\n",
        "plt.show()"
      ],
      "execution_count": null,
      "outputs": [
        {
          "output_type": "display_data",
          "data": {
            "image/png": "[encoded data removed]",
            "text/plain": [
              "<Figure size 432x288 with 1 Axes>"
            ]
          },
          "metadata": {
            "needs_background": "light"
          }
        }
      ]
    },
    {
      "cell_type": "code",
      "metadata": {
        "id": "gll3GcERG4AC"
      },
      "source": [
        "def get_words_from_df(df,column):\n",
        "  words = \"\"\n",
        "  for index, row in df.iterrows():\n",
        "    words += str(row[column])+\" \"\n",
        "  return words"
      ],
      "execution_count": null,
      "outputs": []
    },
    {
      "cell_type": "code",
      "metadata": {
        "colab": {
          "base_uri": "https://localhost:8080/"
        },
        "id": "j4eIQSPwy79w",
        "outputId": "390bd2d8-062d-4526-bc41-ac097af645da"
      },
      "source": [
        "\n",
        "words_TFOTR = text_to_word_sequence(get_words_from_df(TFOTR,\"dialog\"))\n",
        "words_TROTHK = text_to_word_sequence(get_words_from_df(TROTHK,\"dialog\"))\n",
        "words_TTT = text_to_word_sequence(get_words_from_df(TTT,\"dialog\"))\n",
        "\n",
        "\n",
        "total_words = pd.DataFrame({'Movie' : ['TFOTR', 'TTT', 'TROTHK'],\n",
        "                            'Total Words' : [len(words_TFOTR), len(words_TTT),  len(words_TROTHK)]})\n",
        "\n",
        "print('Total de palabras en \"The Fellowship of the Ring\": ', len(words_TFOTR))\n",
        "print('Total de palabras en \"The Two Towers\":             ', len(words_TTT))\n",
        "print('Total de palabras en \"The Return of the King\":     ', len(words_TROTHK))"
      ],
      "execution_count": null,
      "outputs": [
        {
          "output_type": "stream",
          "name": "stdout",
          "text": [
            "Total de palabras en \"The Fellowship of the Ring\":  5470\n",
            "Total de palabras en \"The Two Towers\":              10230\n",
            "Total de palabras en \"The Return of the King\":      9542\n"
          ]
        }
      ]
    },
    {
      "cell_type": "code",
      "metadata": {
        "colab": {
          "base_uri": "https://localhost:8080/",
          "height": 301
        },
        "id": "HGLPTx7Rz9fd",
        "outputId": "49098f4e-951d-49e6-cfa5-beb079670ace"
      },
      "source": [
        "# Histograma de palabras de cada película\n",
        "\n",
        "sns.barplot(data=total_words, x='Movie', y='Total Words')\n",
        "plt.title(\"Total de palabras por película\", fontdict={\"fontsize\":20, \"color\":\"black\"})\n",
        "plt.show()"
      ],
      "execution_count": null,
      "outputs": [
        {
          "output_type": "display_data",
          "data": {
            "image/png": "[encoded data removed]",
            "text/plain": [
              "<Figure size 432x288 with 1 Axes>"
            ]
          },
          "metadata": {
            "needs_background": "light"
          }
        }
      ]
    },
    {
      "cell_type": "code",
      "metadata": {
        "colab": {
          "base_uri": "https://localhost:8080/",
          "height": 364
        },
        "id": "frESBT-f8k_P",
        "outputId": "751650b7-fc2c-4e73-a1b0-f756a4ca4be2"
      },
      "source": [
        "# Histograma de diálogos por personaje en la trilogía\n",
        "chars_trilogy_dialogs = lotr_df['char'].value_counts().head(10).reset_index()\n",
        "chars_trilogy_dialogs.columns=['Character', 'Dialogs']\n",
        "chars_trilogy_dialogs"
      ],
      "execution_count": null,
      "outputs": [
        {
          "output_type": "execute_result",
          "data": {
            "text/html": [
              "<div>\n",
              "<style scoped>\n",
              "    .dataframe tbody tr th:only-of-type {\n",
              "        vertical-align: middle;\n",
              "    }\n",
              "\n",
              "    .dataframe tbody tr th {\n",
              "        vertical-align: top;\n",
              "    }\n",
              "\n",
              "    .dataframe thead th {\n",
              "        text-align: right;\n",
              "    }\n",
              "</style>\n",
              "<table border=\"1\" class=\"dataframe\">\n",
              "  <thead>\n",
              "    <tr style=\"text-align: right;\">\n",
              "      <th></th>\n",
              "      <th>Character</th>\n",
              "      <th>Dialogs</th>\n",
              "    </tr>\n",
              "  </thead>\n",
              "  <tbody>\n",
              "    <tr>\n",
              "      <th>0</th>\n",
              "      <td>FRODO</td>\n",
              "      <td>225</td>\n",
              "    </tr>\n",
              "    <tr>\n",
              "      <th>1</th>\n",
              "      <td>SAM</td>\n",
              "      <td>216</td>\n",
              "    </tr>\n",
              "    <tr>\n",
              "      <th>2</th>\n",
              "      <td>GANDALF</td>\n",
              "      <td>205</td>\n",
              "    </tr>\n",
              "    <tr>\n",
              "      <th>3</th>\n",
              "      <td>ARAGORN</td>\n",
              "      <td>185</td>\n",
              "    </tr>\n",
              "    <tr>\n",
              "      <th>4</th>\n",
              "      <td>PIPPIN</td>\n",
              "      <td>163</td>\n",
              "    </tr>\n",
              "    <tr>\n",
              "      <th>5</th>\n",
              "      <td>MERRY</td>\n",
              "      <td>137</td>\n",
              "    </tr>\n",
              "    <tr>\n",
              "      <th>6</th>\n",
              "      <td>GOLLUM</td>\n",
              "      <td>133</td>\n",
              "    </tr>\n",
              "    <tr>\n",
              "      <th>7</th>\n",
              "      <td>GIMLI</td>\n",
              "      <td>115</td>\n",
              "    </tr>\n",
              "    <tr>\n",
              "      <th>8</th>\n",
              "      <td>THEODEN</td>\n",
              "      <td>110</td>\n",
              "    </tr>\n",
              "    <tr>\n",
              "      <th>9</th>\n",
              "      <td>FARAMIR</td>\n",
              "      <td>65</td>\n",
              "    </tr>\n",
              "  </tbody>\n",
              "</table>\n",
              "</div>"
            ],
            "text/plain": [
              "  Character  Dialogs\n",
              "0     FRODO      225\n",
              "1       SAM      216\n",
              "2   GANDALF      205\n",
              "3   ARAGORN      185\n",
              "4    PIPPIN      163\n",
              "5     MERRY      137\n",
              "6    GOLLUM      133\n",
              "7     GIMLI      115\n",
              "8   THEODEN      110\n",
              "9   FARAMIR       65"
            ]
          },
          "metadata": {},
          "execution_count": 54
        }
      ]
    },
    {
      "cell_type": "code",
      "metadata": {
        "colab": {
          "base_uri": "https://localhost:8080/",
          "height": 301
        },
        "id": "LaR4_-szSlkY",
        "outputId": "ba83dbc7-bbee-4490-a432-1cfe9095656a"
      },
      "source": [
        "sns.barplot(data=chars_trilogy_dialogs, x='Dialogs', y='Character', orient=\"h\")\n",
        "plt.title(\"Dialogos por Personaje en la Trilogía\", fontdict={\"fontsize\":20, \"color\":\"black\"})\n",
        "plt.show()"
      ],
      "execution_count": null,
      "outputs": [
        {
          "output_type": "display_data",
          "data": {
            "image/png": "[encoded data removed]",
            "text/plain": [
              "<Figure size 432x288 with 1 Axes>"
            ]
          },
          "metadata": {
            "needs_background": "light"
          }
        }
      ]
    },
    {
      "cell_type": "markdown",
      "metadata": {
        "id": "ABtUuy38Vwdh"
      },
      "source": [
        "### 10 personajes con más dálogos en The Fellowship of the Ring"
      ]
    },
    {
      "cell_type": "code",
      "metadata": {
        "colab": {
          "base_uri": "https://localhost:8080/",
          "height": 364
        },
        "id": "nzb2yoEXVugc",
        "outputId": "62a8ff7e-1d52-4478-b9b8-527f94a7105f"
      },
      "source": [
        "# Histograma de diálogos por personaje en la trilogía\n",
        "tfotr_dialogs = TFOTR['char'].value_counts().head(10).reset_index()\n",
        "tfotr_dialogs.columns=['Character', 'Dialogs']\n",
        "tfotr_dialogs"
      ],
      "execution_count": null,
      "outputs": [
        {
          "output_type": "execute_result",
          "data": {
            "text/html": [
              "<div>\n",
              "<style scoped>\n",
              "    .dataframe tbody tr th:only-of-type {\n",
              "        vertical-align: middle;\n",
              "    }\n",
              "\n",
              "    .dataframe tbody tr th {\n",
              "        vertical-align: top;\n",
              "    }\n",
              "\n",
              "    .dataframe thead th {\n",
              "        text-align: right;\n",
              "    }\n",
              "</style>\n",
              "<table border=\"1\" class=\"dataframe\">\n",
              "  <thead>\n",
              "    <tr style=\"text-align: right;\">\n",
              "      <th></th>\n",
              "      <th>Character</th>\n",
              "      <th>Dialogs</th>\n",
              "    </tr>\n",
              "  </thead>\n",
              "  <tbody>\n",
              "    <tr>\n",
              "      <th>0</th>\n",
              "      <td>GANDALF</td>\n",
              "      <td>72</td>\n",
              "    </tr>\n",
              "    <tr>\n",
              "      <th>1</th>\n",
              "      <td>FRODO</td>\n",
              "      <td>70</td>\n",
              "    </tr>\n",
              "    <tr>\n",
              "      <th>2</th>\n",
              "      <td>MERRY</td>\n",
              "      <td>41</td>\n",
              "    </tr>\n",
              "    <tr>\n",
              "      <th>3</th>\n",
              "      <td>BILBO</td>\n",
              "      <td>41</td>\n",
              "    </tr>\n",
              "    <tr>\n",
              "      <th>4</th>\n",
              "      <td>PIPPIN</td>\n",
              "      <td>38</td>\n",
              "    </tr>\n",
              "    <tr>\n",
              "      <th>5</th>\n",
              "      <td>SAM</td>\n",
              "      <td>38</td>\n",
              "    </tr>\n",
              "    <tr>\n",
              "      <th>6</th>\n",
              "      <td>ARAGORN</td>\n",
              "      <td>27</td>\n",
              "    </tr>\n",
              "    <tr>\n",
              "      <th>7</th>\n",
              "      <td>BOROMIR</td>\n",
              "      <td>25</td>\n",
              "    </tr>\n",
              "    <tr>\n",
              "      <th>8</th>\n",
              "      <td>STRIDER</td>\n",
              "      <td>25</td>\n",
              "    </tr>\n",
              "    <tr>\n",
              "      <th>9</th>\n",
              "      <td>GIMLI</td>\n",
              "      <td>23</td>\n",
              "    </tr>\n",
              "  </tbody>\n",
              "</table>\n",
              "</div>"
            ],
            "text/plain": [
              "  Character  Dialogs\n",
              "0   GANDALF       72\n",
              "1     FRODO       70\n",
              "2     MERRY       41\n",
              "3     BILBO       41\n",
              "4    PIPPIN       38\n",
              "5       SAM       38\n",
              "6   ARAGORN       27\n",
              "7   BOROMIR       25\n",
              "8   STRIDER       25\n",
              "9     GIMLI       23"
            ]
          },
          "metadata": {},
          "execution_count": 56
        }
      ]
    },
    {
      "cell_type": "code",
      "metadata": {
        "colab": {
          "base_uri": "https://localhost:8080/",
          "height": 300
        },
        "id": "5OrzPPmcWzpg",
        "outputId": "c510f89a-5047-440f-b8a4-99cd6b6323d8"
      },
      "source": [
        "sns.barplot(data=tfotr_dialogs, x='Dialogs', y='Character', orient=\"h\")\n",
        "plt.title(\"Dialogos por Personaje en TFOTR\", fontdict={\"fontsize\":20, \"color\":\"black\"})\n",
        "plt.show()"
      ],
      "execution_count": null,
      "outputs": [
        {
          "output_type": "display_data",
          "data": {
            "image/png": "[encoded data removed]",
            "text/plain": [
              "<Figure size 432x288 with 1 Axes>"
            ]
          },
          "metadata": {
            "needs_background": "light"
          }
        }
      ]
    },
    {
      "cell_type": "markdown",
      "metadata": {
        "id": "GgFDVC8kXhUz"
      },
      "source": [
        "### 10 personajes con más dálogos en The Two Towers\n",
        "\n",
        "\n",
        "\n",
        "\n"
      ]
    },
    {
      "cell_type": "code",
      "metadata": {
        "colab": {
          "base_uri": "https://localhost:8080/",
          "height": 364
        },
        "id": "IC8wQgMcXgiA",
        "outputId": "2cde497e-6c8b-45c7-ef2b-3a046c5d35e6"
      },
      "source": [
        "# Histograma de diálogos por personaje en la trilogía\n",
        "ttt_dialogs = TTT['char'].value_counts().head(10).reset_index()\n",
        "ttt_dialogs.columns=['Character', 'Dialogs']\n",
        "ttt_dialogs"
      ],
      "execution_count": null,
      "outputs": [
        {
          "output_type": "execute_result",
          "data": {
            "text/html": [
              "<div>\n",
              "<style scoped>\n",
              "    .dataframe tbody tr th:only-of-type {\n",
              "        vertical-align: middle;\n",
              "    }\n",
              "\n",
              "    .dataframe tbody tr th {\n",
              "        vertical-align: top;\n",
              "    }\n",
              "\n",
              "    .dataframe thead th {\n",
              "        text-align: right;\n",
              "    }\n",
              "</style>\n",
              "<table border=\"1\" class=\"dataframe\">\n",
              "  <thead>\n",
              "    <tr style=\"text-align: right;\">\n",
              "      <th></th>\n",
              "      <th>Character</th>\n",
              "      <th>Dialogs</th>\n",
              "    </tr>\n",
              "  </thead>\n",
              "  <tbody>\n",
              "    <tr>\n",
              "      <th>0</th>\n",
              "      <td>ARAGORN</td>\n",
              "      <td>97</td>\n",
              "    </tr>\n",
              "    <tr>\n",
              "      <th>1</th>\n",
              "      <td>SAM</td>\n",
              "      <td>87</td>\n",
              "    </tr>\n",
              "    <tr>\n",
              "      <th>2</th>\n",
              "      <td>FRODO</td>\n",
              "      <td>82</td>\n",
              "    </tr>\n",
              "    <tr>\n",
              "      <th>3</th>\n",
              "      <td>GOLLUM</td>\n",
              "      <td>78</td>\n",
              "    </tr>\n",
              "    <tr>\n",
              "      <th>4</th>\n",
              "      <td>THEODEN</td>\n",
              "      <td>64</td>\n",
              "    </tr>\n",
              "    <tr>\n",
              "      <th>5</th>\n",
              "      <td>GIMLI</td>\n",
              "      <td>58</td>\n",
              "    </tr>\n",
              "    <tr>\n",
              "      <th>6</th>\n",
              "      <td>PIPPIN</td>\n",
              "      <td>56</td>\n",
              "    </tr>\n",
              "    <tr>\n",
              "      <th>7</th>\n",
              "      <td>MERRY</td>\n",
              "      <td>55</td>\n",
              "    </tr>\n",
              "    <tr>\n",
              "      <th>8</th>\n",
              "      <td>TREEBEARD</td>\n",
              "      <td>43</td>\n",
              "    </tr>\n",
              "    <tr>\n",
              "      <th>9</th>\n",
              "      <td>FARAMIR</td>\n",
              "      <td>41</td>\n",
              "    </tr>\n",
              "  </tbody>\n",
              "</table>\n",
              "</div>"
            ],
            "text/plain": [
              "   Character  Dialogs\n",
              "0    ARAGORN       97\n",
              "1        SAM       87\n",
              "2      FRODO       82\n",
              "3     GOLLUM       78\n",
              "4    THEODEN       64\n",
              "5      GIMLI       58\n",
              "6     PIPPIN       56\n",
              "7      MERRY       55\n",
              "8  TREEBEARD       43\n",
              "9    FARAMIR       41"
            ]
          },
          "metadata": {},
          "execution_count": 58
        }
      ]
    },
    {
      "cell_type": "code",
      "metadata": {
        "colab": {
          "base_uri": "https://localhost:8080/",
          "height": 300
        },
        "id": "EOPxDpXOXsn6",
        "outputId": "765094b0-ec5d-4e34-b31f-266aa6e1653c"
      },
      "source": [
        "sns.barplot(data=ttt_dialogs, x='Dialogs', y='Character', orient=\"h\")\n",
        "plt.title(\"Dialogos por Personaje en TTT\", fontdict={\"fontsize\":20, \"color\":\"black\"})\n",
        "plt.show()"
      ],
      "execution_count": null,
      "outputs": [
        {
          "output_type": "display_data",
          "data": {
            "image/png": "[encoded data removed]",
            "text/plain": [
              "<Figure size 432x288 with 1 Axes>"
            ]
          },
          "metadata": {
            "needs_background": "light"
          }
        }
      ]
    },
    {
      "cell_type": "markdown",
      "metadata": {
        "id": "4K6nCjfgYWWf"
      },
      "source": [
        "### 10 personajes con más dálogos en The Return of The King"
      ]
    },
    {
      "cell_type": "code",
      "metadata": {
        "colab": {
          "base_uri": "https://localhost:8080/",
          "height": 364
        },
        "id": "7PlQ649RX0MT",
        "outputId": "d7b46428-26db-4ab1-dd71-b220eb793f9f"
      },
      "source": [
        "# Histograma de diálogos por personaje en la trilogía\n",
        "trotk_dialogs = TROTHK['char'].value_counts().head(10).reset_index()\n",
        "trotk_dialogs.columns=['Character', 'Dialogs']\n",
        "trotk_dialogs"
      ],
      "execution_count": null,
      "outputs": [
        {
          "output_type": "execute_result",
          "data": {
            "text/html": [
              "<div>\n",
              "<style scoped>\n",
              "    .dataframe tbody tr th:only-of-type {\n",
              "        vertical-align: middle;\n",
              "    }\n",
              "\n",
              "    .dataframe tbody tr th {\n",
              "        vertical-align: top;\n",
              "    }\n",
              "\n",
              "    .dataframe thead th {\n",
              "        text-align: right;\n",
              "    }\n",
              "</style>\n",
              "<table border=\"1\" class=\"dataframe\">\n",
              "  <thead>\n",
              "    <tr style=\"text-align: right;\">\n",
              "      <th></th>\n",
              "      <th>Character</th>\n",
              "      <th>Dialogs</th>\n",
              "    </tr>\n",
              "  </thead>\n",
              "  <tbody>\n",
              "    <tr>\n",
              "      <th>0</th>\n",
              "      <td>GANDALF</td>\n",
              "      <td>94</td>\n",
              "    </tr>\n",
              "    <tr>\n",
              "      <th>1</th>\n",
              "      <td>SAM</td>\n",
              "      <td>91</td>\n",
              "    </tr>\n",
              "    <tr>\n",
              "      <th>2</th>\n",
              "      <td>FRODO</td>\n",
              "      <td>73</td>\n",
              "    </tr>\n",
              "    <tr>\n",
              "      <th>3</th>\n",
              "      <td>PIPPIN</td>\n",
              "      <td>69</td>\n",
              "    </tr>\n",
              "    <tr>\n",
              "      <th>4</th>\n",
              "      <td>ARAGORN</td>\n",
              "      <td>61</td>\n",
              "    </tr>\n",
              "    <tr>\n",
              "      <th>5</th>\n",
              "      <td>GOLLUM</td>\n",
              "      <td>52</td>\n",
              "    </tr>\n",
              "    <tr>\n",
              "      <th>6</th>\n",
              "      <td>THEODEN</td>\n",
              "      <td>46</td>\n",
              "    </tr>\n",
              "    <tr>\n",
              "      <th>7</th>\n",
              "      <td>MERRY</td>\n",
              "      <td>41</td>\n",
              "    </tr>\n",
              "    <tr>\n",
              "      <th>8</th>\n",
              "      <td>DENETHOR</td>\n",
              "      <td>35</td>\n",
              "    </tr>\n",
              "    <tr>\n",
              "      <th>9</th>\n",
              "      <td>GIMLI</td>\n",
              "      <td>34</td>\n",
              "    </tr>\n",
              "  </tbody>\n",
              "</table>\n",
              "</div>"
            ],
            "text/plain": [
              "  Character  Dialogs\n",
              "0   GANDALF       94\n",
              "1       SAM       91\n",
              "2     FRODO       73\n",
              "3    PIPPIN       69\n",
              "4   ARAGORN       61\n",
              "5    GOLLUM       52\n",
              "6   THEODEN       46\n",
              "7     MERRY       41\n",
              "8  DENETHOR       35\n",
              "9     GIMLI       34"
            ]
          },
          "metadata": {},
          "execution_count": 60
        }
      ]
    },
    {
      "cell_type": "code",
      "metadata": {
        "id": "tEagkbg7Ytpu",
        "colab": {
          "base_uri": "https://localhost:8080/",
          "height": 300
        },
        "outputId": "872cac47-6a7c-4131-b03e-f4fe99c1e128"
      },
      "source": [
        "sns.barplot(data=trotk_dialogs, x='Dialogs', y='Character', orient=\"h\")\n",
        "plt.title(\"Dialogos por Personaje en TROTHK\", fontdict={\"fontsize\":20, \"color\":\"black\"})\n",
        "plt.show()"
      ],
      "execution_count": null,
      "outputs": [
        {
          "output_type": "display_data",
          "data": {
            "image/png": "[encoded data removed]",
            "text/plain": [
              "<Figure size 432x288 with 1 Axes>"
            ]
          },
          "metadata": {
            "needs_background": "light"
          }
        }
      ]
    },
    {
      "cell_type": "markdown",
      "metadata": {
        "id": "4J7-Zs6fF8NS"
      },
      "source": [
        "### Normalización de Información"
      ]
    },
    {
      "cell_type": "code",
      "metadata": {
        "colab": {
          "base_uri": "https://localhost:8080/"
        },
        "id": "I86ZtupZsyxc",
        "outputId": "23ca0cd4-a7bb-430f-be98-2de5a3346162"
      },
      "source": [
        "nltk.download('stopwords')\n",
        "nltk.download('punkt')\n",
        "nltk.download('vader_lexicon')\n",
        "nltk.download('wordnet')"
      ],
      "execution_count": null,
      "outputs": [
        {
          "output_type": "stream",
          "name": "stdout",
          "text": [
            "[nltk_data] Downloading package stopwords to /root/nltk_data...\n",
            "[nltk_data]   Package stopwords is already up-to-date!\n",
            "[nltk_data] Downloading package punkt to /root/nltk_data...\n",
            "[nltk_data]   Package punkt is already up-to-date!\n",
            "[nltk_data] Downloading package vader_lexicon to /root/nltk_data...\n",
            "[nltk_data]   Package vader_lexicon is already up-to-date!\n",
            "[nltk_data] Downloading package wordnet to /root/nltk_data...\n",
            "[nltk_data]   Package wordnet is already up-to-date!\n"
          ]
        },
        {
          "output_type": "execute_result",
          "data": {
            "text/plain": [
              "True"
            ]
          },
          "metadata": {},
          "execution_count": 62
        }
      ]
    },
    {
      "cell_type": "code",
      "metadata": {
        "id": "ziqMV7_krmqF",
        "colab": {
          "base_uri": "https://localhost:8080/",
          "height": 364
        },
        "outputId": "ceda8119-a7ec-459d-9f73-71b415de1ab7"
      },
      "source": [
        "dialogs =  lotr_df['dialog'].tolist()\n",
        "stop_words = set(nltk.corpus.stopwords.words('english'))\n",
        "stop_words.add('ive')\n",
        "cleaned_dialogs = []\n",
        "stemming = PorterStemmer()\n",
        "lemmatizer = WordNetLemmatizer()\n",
        "bag_of_words = []\n",
        "\n",
        "for dialog in dialogs:\n",
        "  dialog = re.sub(r'[!?.,()-]', ' ', str(dialog))\n",
        "  dialog = re.sub(r'\\'', '', dialog)\n",
        "  words = word_tokenize(dialog) #tokenization\n",
        "  words = [str.lower(word) for word in words]\n",
        "  words = [word for word in words if word not in (stop_words)]\n",
        "  words = [stemming.stem(word) for word in words ]\n",
        "  words = [lemmatizer.lemmatize(word) for word in words]\n",
        "  bag_of_words.extend(words)\n",
        "  cleaned_dialogs.append(\" \".join(words))\n",
        "\n",
        "cleaned_dialogs_df = pd.DataFrame( { 'char': lotr_df['char'].tolist(), 'clean_dialogs' : cleaned_dialogs })\n",
        "\n",
        "cleaned_dialogs_df.to_csv(\"lotr_cleaned_dialogs.csv\")\n",
        "cleaned_dialogs_df.head(10)\n",
        "#diag_without_stop_words = lotr_df['dialog'].apply(lambda x: ' '.join([word for word in str(x).split() if word not in (stop_words)]))"
      ],
      "execution_count": null,
      "outputs": [
        {
          "output_type": "execute_result",
          "data": {
            "text/html": [
              "<div>\n",
              "<style scoped>\n",
              "    .dataframe tbody tr th:only-of-type {\n",
              "        vertical-align: middle;\n",
              "    }\n",
              "\n",
              "    .dataframe tbody tr th {\n",
              "        vertical-align: top;\n",
              "    }\n",
              "\n",
              "    .dataframe thead th {\n",
              "        text-align: right;\n",
              "    }\n",
              "</style>\n",
              "<table border=\"1\" class=\"dataframe\">\n",
              "  <thead>\n",
              "    <tr style=\"text-align: right;\">\n",
              "      <th></th>\n",
              "      <th>char</th>\n",
              "      <th>clean_dialogs</th>\n",
              "    </tr>\n",
              "  </thead>\n",
              "  <tbody>\n",
              "    <tr>\n",
              "      <th>0</th>\n",
              "      <td>DEAGOL</td>\n",
              "      <td>oh smeagol got one got fish smeagol smeagol</td>\n",
              "    </tr>\n",
              "    <tr>\n",
              "      <th>1</th>\n",
              "      <td>SMEAGOL</td>\n",
              "      <td>pull go go go pull</td>\n",
              "    </tr>\n",
              "    <tr>\n",
              "      <th>2</th>\n",
              "      <td>DEAGOL</td>\n",
              "      <td>arrghh</td>\n",
              "    </tr>\n",
              "    <tr>\n",
              "      <th>3</th>\n",
              "      <td>SMEAGOL</td>\n",
              "      <td>deagol</td>\n",
              "    </tr>\n",
              "    <tr>\n",
              "      <th>4</th>\n",
              "      <td>SMEAGOL</td>\n",
              "      <td>deagol</td>\n",
              "    </tr>\n",
              "    <tr>\n",
              "      <th>5</th>\n",
              "      <td>SMEAGOL</td>\n",
              "      <td>deagol</td>\n",
              "    </tr>\n",
              "    <tr>\n",
              "      <th>6</th>\n",
              "      <td>SMEAGOL</td>\n",
              "      <td>give u deagol love</td>\n",
              "    </tr>\n",
              "    <tr>\n",
              "      <th>7</th>\n",
              "      <td>DEAGOL</td>\n",
              "      <td></td>\n",
              "    </tr>\n",
              "    <tr>\n",
              "      <th>8</th>\n",
              "      <td>SMEAGOL</td>\n",
              "      <td>birthday want</td>\n",
              "    </tr>\n",
              "    <tr>\n",
              "      <th>9</th>\n",
              "      <td>SMEAGOL</td>\n",
              "      <td>preciou</td>\n",
              "    </tr>\n",
              "  </tbody>\n",
              "</table>\n",
              "</div>"
            ],
            "text/plain": [
              "      char                                clean_dialogs\n",
              "0   DEAGOL  oh smeagol got one got fish smeagol smeagol\n",
              "1  SMEAGOL                           pull go go go pull\n",
              "2   DEAGOL                                       arrghh\n",
              "3  SMEAGOL                                       deagol\n",
              "4  SMEAGOL                                       deagol\n",
              "5  SMEAGOL                                       deagol\n",
              "6  SMEAGOL                           give u deagol love\n",
              "7   DEAGOL                                             \n",
              "8  SMEAGOL                                birthday want\n",
              "9  SMEAGOL                                      preciou"
            ]
          },
          "metadata": {},
          "execution_count": 87
        }
      ]
    },
    {
      "cell_type": "markdown",
      "metadata": {
        "id": "JZLVecKcBtAP"
      },
      "source": [
        "### TF-IDF"
      ]
    },
    {
      "cell_type": "code",
      "metadata": {
        "id": "ZRT2ZUS9CIo0"
      },
      "source": [
        "vectorizer = TfidfVectorizer(smooth_idf=False)\n",
        "tfidf = vectorizer.fit_transform(cleaned_dialogs)\n",
        "#print(tfidf)"
      ],
      "execution_count": null,
      "outputs": []
    },
    {
      "cell_type": "code",
      "metadata": {
        "colab": {
          "base_uri": "https://localhost:8080/",
          "height": 256
        },
        "id": "71BytYypZoTy",
        "outputId": "dddbc353-c5a9-4ff1-b931-adb17e45163f"
      },
      "source": [
        "vocabulary = list(vectorizer.vocabulary_.keys())\n",
        "vocabulary.sort()\n",
        "tfidf_table = pd.DataFrame(tfidf.todense(), columns=vocabulary)\n",
        "tfidf_table.head()"
      ],
      "execution_count": null,
      "outputs": [
        {
          "output_type": "execute_result",
          "data": {
            "text/html": [
              "<div>\n",
              "<style scoped>\n",
              "    .dataframe tbody tr th:only-of-type {\n",
              "        vertical-align: middle;\n",
              "    }\n",
              "\n",
              "    .dataframe tbody tr th {\n",
              "        vertical-align: top;\n",
              "    }\n",
              "\n",
              "    .dataframe thead th {\n",
              "        text-align: right;\n",
              "    }\n",
              "</style>\n",
              "<table border=\"1\" class=\"dataframe\">\n",
              "  <thead>\n",
              "    <tr style=\"text-align: right;\">\n",
              "      <th></th>\n",
              "      <th>000</th>\n",
              "      <th>10</th>\n",
              "      <th>1296</th>\n",
              "      <th>1400</th>\n",
              "      <th>17</th>\n",
              "      <th>2000</th>\n",
              "      <th>22nd</th>\n",
              "      <th>300</th>\n",
              "      <th>37</th>\n",
              "      <th>38</th>\n",
              "      <th>42</th>\n",
              "      <th>43</th>\n",
              "      <th>500</th>\n",
              "      <th>60</th>\n",
              "      <th>80</th>\n",
              "      <th>aaa</th>\n",
              "      <th>aaaaaaaaa</th>\n",
              "      <th>aaaaaaaaahhhhhhhhhh</th>\n",
              "      <th>aaaaaaaagh</th>\n",
              "      <th>aaaaaahhhh</th>\n",
              "      <th>aaaaagh</th>\n",
              "      <th>aaaaah</th>\n",
              "      <th>aaaaahh</th>\n",
              "      <th>aaaagh</th>\n",
              "      <th>aaaahh</th>\n",
              "      <th>aaaahhh</th>\n",
              "      <th>aaagh</th>\n",
              "      <th>aaahhh</th>\n",
              "      <th>aagh</th>\n",
              "      <th>aah</th>\n",
              "      <th>ab</th>\n",
              "      <th>abandon</th>\n",
              "      <th>abdollen</th>\n",
              "      <th>abl</th>\n",
              "      <th>abroad</th>\n",
              "      <th>abyss</th>\n",
              "      <th>accept</th>\n",
              "      <th>accomod</th>\n",
              "      <th>accord</th>\n",
              "      <th>account</th>\n",
              "      <th>...</th>\n",
              "      <th>wood</th>\n",
              "      <th>woodland</th>\n",
              "      <th>woodsi</th>\n",
              "      <th>word</th>\n",
              "      <th>work</th>\n",
              "      <th>world</th>\n",
              "      <th>worm</th>\n",
              "      <th>wormtongu</th>\n",
              "      <th>worri</th>\n",
              "      <th>wors</th>\n",
              "      <th>worst</th>\n",
              "      <th>worth</th>\n",
              "      <th>worthi</th>\n",
              "      <th>would</th>\n",
              "      <th>wouldnt</th>\n",
              "      <th>wouldv</th>\n",
              "      <th>wound</th>\n",
              "      <th>wraith</th>\n",
              "      <th>wrath</th>\n",
              "      <th>wriggl</th>\n",
              "      <th>wring</th>\n",
              "      <th>wrong</th>\n",
              "      <th>yarvaxea</th>\n",
              "      <th>ye</th>\n",
              "      <th>yeah</th>\n",
              "      <th>year</th>\n",
              "      <th>yeee</th>\n",
              "      <th>yes</th>\n",
              "      <th>yet</th>\n",
              "      <th>yetthat</th>\n",
              "      <th>yield</th>\n",
              "      <th>youd</th>\n",
              "      <th>youll</th>\n",
              "      <th>young</th>\n",
              "      <th>youon</th>\n",
              "      <th>your</th>\n",
              "      <th>youshouldnt</th>\n",
              "      <th>youto</th>\n",
              "      <th>youv</th>\n",
              "      <th>youwhen</th>\n",
              "    </tr>\n",
              "  </thead>\n",
              "  <tbody>\n",
              "    <tr>\n",
              "      <th>0</th>\n",
              "      <td>0.0</td>\n",
              "      <td>0.0</td>\n",
              "      <td>0.0</td>\n",
              "      <td>0.0</td>\n",
              "      <td>0.0</td>\n",
              "      <td>0.0</td>\n",
              "      <td>0.0</td>\n",
              "      <td>0.0</td>\n",
              "      <td>0.0</td>\n",
              "      <td>0.0</td>\n",
              "      <td>0.0</td>\n",
              "      <td>0.0</td>\n",
              "      <td>0.0</td>\n",
              "      <td>0.0</td>\n",
              "      <td>0.0</td>\n",
              "      <td>0.0</td>\n",
              "      <td>0.0</td>\n",
              "      <td>0.0</td>\n",
              "      <td>0.0</td>\n",
              "      <td>0.0</td>\n",
              "      <td>0.0</td>\n",
              "      <td>0.0</td>\n",
              "      <td>0.0</td>\n",
              "      <td>0.0</td>\n",
              "      <td>0.0</td>\n",
              "      <td>0.0</td>\n",
              "      <td>0.0</td>\n",
              "      <td>0.0</td>\n",
              "      <td>0.0</td>\n",
              "      <td>0.0</td>\n",
              "      <td>0.0</td>\n",
              "      <td>0.0</td>\n",
              "      <td>0.0</td>\n",
              "      <td>0.0</td>\n",
              "      <td>0.0</td>\n",
              "      <td>0.0</td>\n",
              "      <td>0.0</td>\n",
              "      <td>0.0</td>\n",
              "      <td>0.0</td>\n",
              "      <td>0.0</td>\n",
              "      <td>...</td>\n",
              "      <td>0.0</td>\n",
              "      <td>0.0</td>\n",
              "      <td>0.0</td>\n",
              "      <td>0.0</td>\n",
              "      <td>0.0</td>\n",
              "      <td>0.0</td>\n",
              "      <td>0.0</td>\n",
              "      <td>0.0</td>\n",
              "      <td>0.0</td>\n",
              "      <td>0.0</td>\n",
              "      <td>0.0</td>\n",
              "      <td>0.0</td>\n",
              "      <td>0.0</td>\n",
              "      <td>0.0</td>\n",
              "      <td>0.0</td>\n",
              "      <td>0.0</td>\n",
              "      <td>0.0</td>\n",
              "      <td>0.0</td>\n",
              "      <td>0.0</td>\n",
              "      <td>0.0</td>\n",
              "      <td>0.0</td>\n",
              "      <td>0.0</td>\n",
              "      <td>0.0</td>\n",
              "      <td>0.0</td>\n",
              "      <td>0.0</td>\n",
              "      <td>0.0</td>\n",
              "      <td>0.0</td>\n",
              "      <td>0.0</td>\n",
              "      <td>0.0</td>\n",
              "      <td>0.0</td>\n",
              "      <td>0.0</td>\n",
              "      <td>0.0</td>\n",
              "      <td>0.0</td>\n",
              "      <td>0.0</td>\n",
              "      <td>0.0</td>\n",
              "      <td>0.0</td>\n",
              "      <td>0.0</td>\n",
              "      <td>0.0</td>\n",
              "      <td>0.0</td>\n",
              "      <td>0.0</td>\n",
              "    </tr>\n",
              "    <tr>\n",
              "      <th>1</th>\n",
              "      <td>0.0</td>\n",
              "      <td>0.0</td>\n",
              "      <td>0.0</td>\n",
              "      <td>0.0</td>\n",
              "      <td>0.0</td>\n",
              "      <td>0.0</td>\n",
              "      <td>0.0</td>\n",
              "      <td>0.0</td>\n",
              "      <td>0.0</td>\n",
              "      <td>0.0</td>\n",
              "      <td>0.0</td>\n",
              "      <td>0.0</td>\n",
              "      <td>0.0</td>\n",
              "      <td>0.0</td>\n",
              "      <td>0.0</td>\n",
              "      <td>0.0</td>\n",
              "      <td>0.0</td>\n",
              "      <td>0.0</td>\n",
              "      <td>0.0</td>\n",
              "      <td>0.0</td>\n",
              "      <td>0.0</td>\n",
              "      <td>0.0</td>\n",
              "      <td>0.0</td>\n",
              "      <td>0.0</td>\n",
              "      <td>0.0</td>\n",
              "      <td>0.0</td>\n",
              "      <td>0.0</td>\n",
              "      <td>0.0</td>\n",
              "      <td>0.0</td>\n",
              "      <td>0.0</td>\n",
              "      <td>0.0</td>\n",
              "      <td>0.0</td>\n",
              "      <td>0.0</td>\n",
              "      <td>0.0</td>\n",
              "      <td>0.0</td>\n",
              "      <td>0.0</td>\n",
              "      <td>0.0</td>\n",
              "      <td>0.0</td>\n",
              "      <td>0.0</td>\n",
              "      <td>0.0</td>\n",
              "      <td>...</td>\n",
              "      <td>0.0</td>\n",
              "      <td>0.0</td>\n",
              "      <td>0.0</td>\n",
              "      <td>0.0</td>\n",
              "      <td>0.0</td>\n",
              "      <td>0.0</td>\n",
              "      <td>0.0</td>\n",
              "      <td>0.0</td>\n",
              "      <td>0.0</td>\n",
              "      <td>0.0</td>\n",
              "      <td>0.0</td>\n",
              "      <td>0.0</td>\n",
              "      <td>0.0</td>\n",
              "      <td>0.0</td>\n",
              "      <td>0.0</td>\n",
              "      <td>0.0</td>\n",
              "      <td>0.0</td>\n",
              "      <td>0.0</td>\n",
              "      <td>0.0</td>\n",
              "      <td>0.0</td>\n",
              "      <td>0.0</td>\n",
              "      <td>0.0</td>\n",
              "      <td>0.0</td>\n",
              "      <td>0.0</td>\n",
              "      <td>0.0</td>\n",
              "      <td>0.0</td>\n",
              "      <td>0.0</td>\n",
              "      <td>0.0</td>\n",
              "      <td>0.0</td>\n",
              "      <td>0.0</td>\n",
              "      <td>0.0</td>\n",
              "      <td>0.0</td>\n",
              "      <td>0.0</td>\n",
              "      <td>0.0</td>\n",
              "      <td>0.0</td>\n",
              "      <td>0.0</td>\n",
              "      <td>0.0</td>\n",
              "      <td>0.0</td>\n",
              "      <td>0.0</td>\n",
              "      <td>0.0</td>\n",
              "    </tr>\n",
              "    <tr>\n",
              "      <th>2</th>\n",
              "      <td>0.0</td>\n",
              "      <td>0.0</td>\n",
              "      <td>0.0</td>\n",
              "      <td>0.0</td>\n",
              "      <td>0.0</td>\n",
              "      <td>0.0</td>\n",
              "      <td>0.0</td>\n",
              "      <td>0.0</td>\n",
              "      <td>0.0</td>\n",
              "      <td>0.0</td>\n",
              "      <td>0.0</td>\n",
              "      <td>0.0</td>\n",
              "      <td>0.0</td>\n",
              "      <td>0.0</td>\n",
              "      <td>0.0</td>\n",
              "      <td>0.0</td>\n",
              "      <td>0.0</td>\n",
              "      <td>0.0</td>\n",
              "      <td>0.0</td>\n",
              "      <td>0.0</td>\n",
              "      <td>0.0</td>\n",
              "      <td>0.0</td>\n",
              "      <td>0.0</td>\n",
              "      <td>0.0</td>\n",
              "      <td>0.0</td>\n",
              "      <td>0.0</td>\n",
              "      <td>0.0</td>\n",
              "      <td>0.0</td>\n",
              "      <td>0.0</td>\n",
              "      <td>0.0</td>\n",
              "      <td>0.0</td>\n",
              "      <td>0.0</td>\n",
              "      <td>0.0</td>\n",
              "      <td>0.0</td>\n",
              "      <td>0.0</td>\n",
              "      <td>0.0</td>\n",
              "      <td>0.0</td>\n",
              "      <td>0.0</td>\n",
              "      <td>0.0</td>\n",
              "      <td>0.0</td>\n",
              "      <td>...</td>\n",
              "      <td>0.0</td>\n",
              "      <td>0.0</td>\n",
              "      <td>0.0</td>\n",
              "      <td>0.0</td>\n",
              "      <td>0.0</td>\n",
              "      <td>0.0</td>\n",
              "      <td>0.0</td>\n",
              "      <td>0.0</td>\n",
              "      <td>0.0</td>\n",
              "      <td>0.0</td>\n",
              "      <td>0.0</td>\n",
              "      <td>0.0</td>\n",
              "      <td>0.0</td>\n",
              "      <td>0.0</td>\n",
              "      <td>0.0</td>\n",
              "      <td>0.0</td>\n",
              "      <td>0.0</td>\n",
              "      <td>0.0</td>\n",
              "      <td>0.0</td>\n",
              "      <td>0.0</td>\n",
              "      <td>0.0</td>\n",
              "      <td>0.0</td>\n",
              "      <td>0.0</td>\n",
              "      <td>0.0</td>\n",
              "      <td>0.0</td>\n",
              "      <td>0.0</td>\n",
              "      <td>0.0</td>\n",
              "      <td>0.0</td>\n",
              "      <td>0.0</td>\n",
              "      <td>0.0</td>\n",
              "      <td>0.0</td>\n",
              "      <td>0.0</td>\n",
              "      <td>0.0</td>\n",
              "      <td>0.0</td>\n",
              "      <td>0.0</td>\n",
              "      <td>0.0</td>\n",
              "      <td>0.0</td>\n",
              "      <td>0.0</td>\n",
              "      <td>0.0</td>\n",
              "      <td>0.0</td>\n",
              "    </tr>\n",
              "    <tr>\n",
              "      <th>3</th>\n",
              "      <td>0.0</td>\n",
              "      <td>0.0</td>\n",
              "      <td>0.0</td>\n",
              "      <td>0.0</td>\n",
              "      <td>0.0</td>\n",
              "      <td>0.0</td>\n",
              "      <td>0.0</td>\n",
              "      <td>0.0</td>\n",
              "      <td>0.0</td>\n",
              "      <td>0.0</td>\n",
              "      <td>0.0</td>\n",
              "      <td>0.0</td>\n",
              "      <td>0.0</td>\n",
              "      <td>0.0</td>\n",
              "      <td>0.0</td>\n",
              "      <td>0.0</td>\n",
              "      <td>0.0</td>\n",
              "      <td>0.0</td>\n",
              "      <td>0.0</td>\n",
              "      <td>0.0</td>\n",
              "      <td>0.0</td>\n",
              "      <td>0.0</td>\n",
              "      <td>0.0</td>\n",
              "      <td>0.0</td>\n",
              "      <td>0.0</td>\n",
              "      <td>0.0</td>\n",
              "      <td>0.0</td>\n",
              "      <td>0.0</td>\n",
              "      <td>0.0</td>\n",
              "      <td>0.0</td>\n",
              "      <td>0.0</td>\n",
              "      <td>0.0</td>\n",
              "      <td>0.0</td>\n",
              "      <td>0.0</td>\n",
              "      <td>0.0</td>\n",
              "      <td>0.0</td>\n",
              "      <td>0.0</td>\n",
              "      <td>0.0</td>\n",
              "      <td>0.0</td>\n",
              "      <td>0.0</td>\n",
              "      <td>...</td>\n",
              "      <td>0.0</td>\n",
              "      <td>0.0</td>\n",
              "      <td>0.0</td>\n",
              "      <td>0.0</td>\n",
              "      <td>0.0</td>\n",
              "      <td>0.0</td>\n",
              "      <td>0.0</td>\n",
              "      <td>0.0</td>\n",
              "      <td>0.0</td>\n",
              "      <td>0.0</td>\n",
              "      <td>0.0</td>\n",
              "      <td>0.0</td>\n",
              "      <td>0.0</td>\n",
              "      <td>0.0</td>\n",
              "      <td>0.0</td>\n",
              "      <td>0.0</td>\n",
              "      <td>0.0</td>\n",
              "      <td>0.0</td>\n",
              "      <td>0.0</td>\n",
              "      <td>0.0</td>\n",
              "      <td>0.0</td>\n",
              "      <td>0.0</td>\n",
              "      <td>0.0</td>\n",
              "      <td>0.0</td>\n",
              "      <td>0.0</td>\n",
              "      <td>0.0</td>\n",
              "      <td>0.0</td>\n",
              "      <td>0.0</td>\n",
              "      <td>0.0</td>\n",
              "      <td>0.0</td>\n",
              "      <td>0.0</td>\n",
              "      <td>0.0</td>\n",
              "      <td>0.0</td>\n",
              "      <td>0.0</td>\n",
              "      <td>0.0</td>\n",
              "      <td>0.0</td>\n",
              "      <td>0.0</td>\n",
              "      <td>0.0</td>\n",
              "      <td>0.0</td>\n",
              "      <td>0.0</td>\n",
              "    </tr>\n",
              "    <tr>\n",
              "      <th>4</th>\n",
              "      <td>0.0</td>\n",
              "      <td>0.0</td>\n",
              "      <td>0.0</td>\n",
              "      <td>0.0</td>\n",
              "      <td>0.0</td>\n",
              "      <td>0.0</td>\n",
              "      <td>0.0</td>\n",
              "      <td>0.0</td>\n",
              "      <td>0.0</td>\n",
              "      <td>0.0</td>\n",
              "      <td>0.0</td>\n",
              "      <td>0.0</td>\n",
              "      <td>0.0</td>\n",
              "      <td>0.0</td>\n",
              "      <td>0.0</td>\n",
              "      <td>0.0</td>\n",
              "      <td>0.0</td>\n",
              "      <td>0.0</td>\n",
              "      <td>0.0</td>\n",
              "      <td>0.0</td>\n",
              "      <td>0.0</td>\n",
              "      <td>0.0</td>\n",
              "      <td>0.0</td>\n",
              "      <td>0.0</td>\n",
              "      <td>0.0</td>\n",
              "      <td>0.0</td>\n",
              "      <td>0.0</td>\n",
              "      <td>0.0</td>\n",
              "      <td>0.0</td>\n",
              "      <td>0.0</td>\n",
              "      <td>0.0</td>\n",
              "      <td>0.0</td>\n",
              "      <td>0.0</td>\n",
              "      <td>0.0</td>\n",
              "      <td>0.0</td>\n",
              "      <td>0.0</td>\n",
              "      <td>0.0</td>\n",
              "      <td>0.0</td>\n",
              "      <td>0.0</td>\n",
              "      <td>0.0</td>\n",
              "      <td>...</td>\n",
              "      <td>0.0</td>\n",
              "      <td>0.0</td>\n",
              "      <td>0.0</td>\n",
              "      <td>0.0</td>\n",
              "      <td>0.0</td>\n",
              "      <td>0.0</td>\n",
              "      <td>0.0</td>\n",
              "      <td>0.0</td>\n",
              "      <td>0.0</td>\n",
              "      <td>0.0</td>\n",
              "      <td>0.0</td>\n",
              "      <td>0.0</td>\n",
              "      <td>0.0</td>\n",
              "      <td>0.0</td>\n",
              "      <td>0.0</td>\n",
              "      <td>0.0</td>\n",
              "      <td>0.0</td>\n",
              "      <td>0.0</td>\n",
              "      <td>0.0</td>\n",
              "      <td>0.0</td>\n",
              "      <td>0.0</td>\n",
              "      <td>0.0</td>\n",
              "      <td>0.0</td>\n",
              "      <td>0.0</td>\n",
              "      <td>0.0</td>\n",
              "      <td>0.0</td>\n",
              "      <td>0.0</td>\n",
              "      <td>0.0</td>\n",
              "      <td>0.0</td>\n",
              "      <td>0.0</td>\n",
              "      <td>0.0</td>\n",
              "      <td>0.0</td>\n",
              "      <td>0.0</td>\n",
              "      <td>0.0</td>\n",
              "      <td>0.0</td>\n",
              "      <td>0.0</td>\n",
              "      <td>0.0</td>\n",
              "      <td>0.0</td>\n",
              "      <td>0.0</td>\n",
              "      <td>0.0</td>\n",
              "    </tr>\n",
              "  </tbody>\n",
              "</table>\n",
              "<p>5 rows × 2644 columns</p>\n",
              "</div>"
            ],
            "text/plain": [
              "   000   10  1296  1400   17  ...  your  youshouldnt  youto  youv  youwhen\n",
              "0  0.0  0.0   0.0   0.0  0.0  ...   0.0          0.0    0.0   0.0      0.0\n",
              "1  0.0  0.0   0.0   0.0  0.0  ...   0.0          0.0    0.0   0.0      0.0\n",
              "2  0.0  0.0   0.0   0.0  0.0  ...   0.0          0.0    0.0   0.0      0.0\n",
              "3  0.0  0.0   0.0   0.0  0.0  ...   0.0          0.0    0.0   0.0      0.0\n",
              "4  0.0  0.0   0.0   0.0  0.0  ...   0.0          0.0    0.0   0.0      0.0\n",
              "\n",
              "[5 rows x 2644 columns]"
            ]
          },
          "metadata": {},
          "execution_count": 65
        }
      ]
    },
    {
      "cell_type": "code",
      "metadata": {
        "colab": {
          "base_uri": "https://localhost:8080/"
        },
        "id": "MjGOlAgTcABc",
        "outputId": "e74a7826-c89d-47f7-ee55-36c5d852a9c2"
      },
      "source": [
        "tfidf_table.shape"
      ],
      "execution_count": null,
      "outputs": [
        {
          "output_type": "execute_result",
          "data": {
            "text/plain": [
              "(2388, 2644)"
            ]
          },
          "metadata": {},
          "execution_count": 66
        }
      ]
    },
    {
      "cell_type": "code",
      "metadata": {
        "colab": {
          "base_uri": "https://localhost:8080/",
          "height": 424
        },
        "id": "7I_1h16LU4Y6",
        "outputId": "edd808d8-a0fa-4c3b-8e5c-08b37b43a65d"
      },
      "source": [
        "# Palabras mas raras en cada documento. TF-IDF maximo por documento\n",
        "\n",
        "pd.DataFrame(tfidf_table.idxmax(axis=1), columns=['TF-IDF max per document'])"
      ],
      "execution_count": null,
      "outputs": [
        {
          "output_type": "execute_result",
          "data": {
            "text/html": [
              "<div>\n",
              "<style scoped>\n",
              "    .dataframe tbody tr th:only-of-type {\n",
              "        vertical-align: middle;\n",
              "    }\n",
              "\n",
              "    .dataframe tbody tr th {\n",
              "        vertical-align: top;\n",
              "    }\n",
              "\n",
              "    .dataframe thead th {\n",
              "        text-align: right;\n",
              "    }\n",
              "</style>\n",
              "<table border=\"1\" class=\"dataframe\">\n",
              "  <thead>\n",
              "    <tr style=\"text-align: right;\">\n",
              "      <th></th>\n",
              "      <th>TF-IDF max per document</th>\n",
              "    </tr>\n",
              "  </thead>\n",
              "  <tbody>\n",
              "    <tr>\n",
              "      <th>0</th>\n",
              "      <td>smeagol</td>\n",
              "    </tr>\n",
              "    <tr>\n",
              "      <th>1</th>\n",
              "      <td>pull</td>\n",
              "    </tr>\n",
              "    <tr>\n",
              "      <th>2</th>\n",
              "      <td>arrghh</td>\n",
              "    </tr>\n",
              "    <tr>\n",
              "      <th>3</th>\n",
              "      <td>deagol</td>\n",
              "    </tr>\n",
              "    <tr>\n",
              "      <th>4</th>\n",
              "      <td>deagol</td>\n",
              "    </tr>\n",
              "    <tr>\n",
              "      <th>...</th>\n",
              "      <td>...</td>\n",
              "    </tr>\n",
              "    <tr>\n",
              "      <th>2383</th>\n",
              "      <td>merri</td>\n",
              "    </tr>\n",
              "    <tr>\n",
              "      <th>2384</th>\n",
              "      <td>merri</td>\n",
              "    </tr>\n",
              "    <tr>\n",
              "      <th>2385</th>\n",
              "      <td>alway</td>\n",
              "    </tr>\n",
              "    <tr>\n",
              "      <th>2386</th>\n",
              "      <td>hardi</td>\n",
              "    </tr>\n",
              "    <tr>\n",
              "      <th>2387</th>\n",
              "      <td>foolhardi</td>\n",
              "    </tr>\n",
              "  </tbody>\n",
              "</table>\n",
              "<p>2388 rows × 1 columns</p>\n",
              "</div>"
            ],
            "text/plain": [
              "     TF-IDF max per document\n",
              "0                    smeagol\n",
              "1                       pull\n",
              "2                     arrghh\n",
              "3                     deagol\n",
              "4                     deagol\n",
              "...                      ...\n",
              "2383                   merri\n",
              "2384                   merri\n",
              "2385                   alway\n",
              "2386                   hardi\n",
              "2387               foolhardi\n",
              "\n",
              "[2388 rows x 1 columns]"
            ]
          },
          "metadata": {},
          "execution_count": 67
        }
      ]
    },
    {
      "cell_type": "code",
      "metadata": {
        "colab": {
          "base_uri": "https://localhost:8080/",
          "height": 424
        },
        "id": "xEHMmz8-V5-a",
        "outputId": "cb26915f-813a-4e2d-b7b7-752dfa27c1af"
      },
      "source": [
        "# Palabras mas raras en cada documento. TF-IDF = 1 en todo el corpus\n",
        "\n",
        "pd.DataFrame(tfidf_table[tfidf_table.max(axis=1) == 1].idxmax(axis=1), columns=['TF-IDF = 1'])"
      ],
      "execution_count": null,
      "outputs": [
        {
          "output_type": "execute_result",
          "data": {
            "text/html": [
              "<div>\n",
              "<style scoped>\n",
              "    .dataframe tbody tr th:only-of-type {\n",
              "        vertical-align: middle;\n",
              "    }\n",
              "\n",
              "    .dataframe tbody tr th {\n",
              "        vertical-align: top;\n",
              "    }\n",
              "\n",
              "    .dataframe thead th {\n",
              "        text-align: right;\n",
              "    }\n",
              "</style>\n",
              "<table border=\"1\" class=\"dataframe\">\n",
              "  <thead>\n",
              "    <tr style=\"text-align: right;\">\n",
              "      <th></th>\n",
              "      <th>TF-IDF = 1</th>\n",
              "    </tr>\n",
              "  </thead>\n",
              "  <tbody>\n",
              "    <tr>\n",
              "      <th>2</th>\n",
              "      <td>arrghh</td>\n",
              "    </tr>\n",
              "    <tr>\n",
              "      <th>3</th>\n",
              "      <td>deagol</td>\n",
              "    </tr>\n",
              "    <tr>\n",
              "      <th>4</th>\n",
              "      <td>deagol</td>\n",
              "    </tr>\n",
              "    <tr>\n",
              "      <th>5</th>\n",
              "      <td>deagol</td>\n",
              "    </tr>\n",
              "    <tr>\n",
              "      <th>9</th>\n",
              "      <td>preciou</td>\n",
              "    </tr>\n",
              "    <tr>\n",
              "      <th>...</th>\n",
              "      <td>...</td>\n",
              "    </tr>\n",
              "    <tr>\n",
              "      <th>2372</th>\n",
              "      <td>come</td>\n",
              "    </tr>\n",
              "    <tr>\n",
              "      <th>2379</th>\n",
              "      <td>wont</td>\n",
              "    </tr>\n",
              "    <tr>\n",
              "      <th>2381</th>\n",
              "      <td>merri</td>\n",
              "    </tr>\n",
              "    <tr>\n",
              "      <th>2383</th>\n",
              "      <td>merri</td>\n",
              "    </tr>\n",
              "    <tr>\n",
              "      <th>2384</th>\n",
              "      <td>merri</td>\n",
              "    </tr>\n",
              "  </tbody>\n",
              "</table>\n",
              "<p>481 rows × 1 columns</p>\n",
              "</div>"
            ],
            "text/plain": [
              "     TF-IDF = 1\n",
              "2        arrghh\n",
              "3        deagol\n",
              "4        deagol\n",
              "5        deagol\n",
              "9       preciou\n",
              "...         ...\n",
              "2372       come\n",
              "2379       wont\n",
              "2381      merri\n",
              "2383      merri\n",
              "2384      merri\n",
              "\n",
              "[481 rows x 1 columns]"
            ]
          },
          "metadata": {},
          "execution_count": 68
        }
      ]
    },
    {
      "cell_type": "code",
      "metadata": {
        "colab": {
          "base_uri": "https://localhost:8080/",
          "height": 301
        },
        "id": "WwM166w4XBKr",
        "outputId": "97f73575-7b49-4fb5-98fa-2fb27f8673df"
      },
      "source": [
        "all_words = pd.DataFrame(tfidf_table.sum(axis=0), columns=['Total per word'])\n",
        "all_words['BoolResp'] = tfidf_table.sum(axis=0) > 20\n",
        "most_rare_words = all_words[all_words['BoolResp'] == True].sort_values('Total per word',ascending=False)\n",
        "\n",
        "sns.barplot(data=most_rare_words, x=most_rare_words['Total per word'], y=most_rare_words.index, orient=\"h\")\n",
        "plt.title(\"Palabras más frecuentes en todo el Corpus\", fontdict={\"fontsize\":20, \"color\":\"black\"})\n",
        "plt.show()"
      ],
      "execution_count": null,
      "outputs": [
        {
          "output_type": "display_data",
          "data": {
            "image/png": "[encoded data removed]",
            "text/plain": [
              "<Figure size 432x288 with 1 Axes>"
            ]
          },
          "metadata": {
            "needs_background": "light"
          }
        }
      ]
    },
    {
      "cell_type": "code",
      "metadata": {
        "colab": {
          "base_uri": "https://localhost:8080/",
          "height": 535
        },
        "id": "EIrSbx3PC19J",
        "outputId": "555e1b28-ac3f-4113-bb91-bb4db6941c14"
      },
      "source": [
        "def word_cloud(strCorpus, k):\n",
        "  stopwords = set(STOPWORDS)\n",
        "  mask = np.array(Image.open('gandalf.png'))\n",
        "  wordcloud = WordCloud(mask=mask,\n",
        "                        background_color ='white',\n",
        "                        stopwords = stopwords,\n",
        "                        max_words = k,\n",
        "                        min_font_size = 4,\n",
        "                        width=mask.shape[1],\n",
        "                        height=mask.shape[0]).generate(strCorpus)\n",
        "\n",
        "  # Plot WordCloud image\t\t\t\t\t\n",
        "  #plt.figure(figsize = (8, 8), facecolor = None)\n",
        "  plt.figure(figsize=(10,10))\n",
        "  plt.imshow(wordcloud)\n",
        "  #plt.title('PALABRAS MAS FRECUENTES\\n', fontdict={\"fontsize\":20, \"color\":\"red\", \"fontweight\":\"bold\"}) \n",
        "  plt.axis(\"off\")\n",
        "  plt.tight_layout(pad = 0)\n",
        "\n",
        "  plt.show()\n",
        "\n",
        "all_words = pd.DataFrame(tfidf_table.sum(axis=0), columns=['Total per word'])\n",
        "all_words['BoolResp'] = tfidf_table.sum(axis=0) > 1\n",
        "most_rare_words = all_words[all_words['BoolResp'] == True].sort_values('Total per word',ascending=False)\n",
        "\n",
        "words = \" \".join(most_rare_words.index.to_list())\n",
        "word_cloud(words, 200)"
      ],
      "execution_count": null,
      "outputs": [
        {
          "output_type": "display_data",
          "data": {
            "image/png": "[encoded data removed]",
            "text/plain": [
              "<Figure size 720x720 with 1 Axes>"
            ]
          },
          "metadata": {
            "needs_background": "light"
          }
        }
      ]
    },
    {
      "cell_type": "markdown",
      "metadata": {
        "id": "zKY9HEA3M4fy"
      },
      "source": [
        "## Análisis de Emociones en Palabras y Diálogos"
      ]
    },
    {
      "cell_type": "code",
      "metadata": {
        "id": "o6F7xLL2HOKB"
      },
      "source": [
        "emotions_lex = NRCLex(\" \".join(bag_of_words))"
      ],
      "execution_count": null,
      "outputs": []
    },
    {
      "cell_type": "code",
      "metadata": {
        "id": "bmEWiTezIG7o",
        "colab": {
          "base_uri": "https://localhost:8080/",
          "height": 404
        },
        "outputId": "1256c74c-e41c-4f1e-b1f5-f3e3ebe37cab"
      },
      "source": [
        "emotions_df = pd.DataFrame.from_dict(emotions_lex.affect_frequencies,  orient='index', columns=[\"frequency\"])\n",
        "emotions_df = emotions_df[emotions_df.frequency != 0]\n",
        "top_emotions_df = emotions_df.sort_values('frequency', ascending=False)\n",
        "\n",
        "display(Markdown(\"### **Frecuencia de Emociones**\"))\n",
        "display(top_emotions_df)"
      ],
      "execution_count": null,
      "outputs": [
        {
          "output_type": "display_data",
          "data": {
            "text/markdown": "### **Frecuencia de Emociones**",
            "text/plain": [
              "<IPython.core.display.Markdown object>"
            ]
          },
          "metadata": {}
        },
        {
          "output_type": "display_data",
          "data": {
            "text/html": [
              "<div>\n",
              "<style scoped>\n",
              "    .dataframe tbody tr th:only-of-type {\n",
              "        vertical-align: middle;\n",
              "    }\n",
              "\n",
              "    .dataframe tbody tr th {\n",
              "        vertical-align: top;\n",
              "    }\n",
              "\n",
              "    .dataframe thead th {\n",
              "        text-align: right;\n",
              "    }\n",
              "</style>\n",
              "<table border=\"1\" class=\"dataframe\">\n",
              "  <thead>\n",
              "    <tr style=\"text-align: right;\">\n",
              "      <th></th>\n",
              "      <th>frequency</th>\n",
              "    </tr>\n",
              "  </thead>\n",
              "  <tbody>\n",
              "    <tr>\n",
              "      <th>positive</th>\n",
              "      <td>0.167925</td>\n",
              "    </tr>\n",
              "    <tr>\n",
              "      <th>negative</th>\n",
              "      <td>0.166538</td>\n",
              "    </tr>\n",
              "    <tr>\n",
              "      <th>fear</th>\n",
              "      <td>0.112926</td>\n",
              "    </tr>\n",
              "    <tr>\n",
              "      <th>trust</th>\n",
              "      <td>0.107071</td>\n",
              "    </tr>\n",
              "    <tr>\n",
              "      <th>anticipation</th>\n",
              "      <td>0.098752</td>\n",
              "    </tr>\n",
              "    <tr>\n",
              "      <th>sadness</th>\n",
              "      <td>0.083808</td>\n",
              "    </tr>\n",
              "    <tr>\n",
              "      <th>anger</th>\n",
              "      <td>0.076105</td>\n",
              "    </tr>\n",
              "    <tr>\n",
              "      <th>disgust</th>\n",
              "      <td>0.069327</td>\n",
              "    </tr>\n",
              "    <tr>\n",
              "      <th>joy</th>\n",
              "      <td>0.068556</td>\n",
              "    </tr>\n",
              "    <tr>\n",
              "      <th>surprise</th>\n",
              "      <td>0.048991</td>\n",
              "    </tr>\n",
              "  </tbody>\n",
              "</table>\n",
              "</div>"
            ],
            "text/plain": [
              "              frequency\n",
              "positive       0.167925\n",
              "negative       0.166538\n",
              "fear           0.112926\n",
              "trust          0.107071\n",
              "anticipation   0.098752\n",
              "sadness        0.083808\n",
              "anger          0.076105\n",
              "disgust        0.069327\n",
              "joy            0.068556\n",
              "surprise       0.048991"
            ]
          },
          "metadata": {}
        }
      ]
    },
    {
      "cell_type": "code",
      "metadata": {
        "id": "N7Q7bbK-4-eW",
        "colab": {
          "base_uri": "https://localhost:8080/",
          "height": 300
        },
        "outputId": "5e31c6da-cd5c-4317-e3e9-4d26be997c30"
      },
      "source": [
        "sns.barplot(data=top_emotions_df, x=top_emotions_df['frequency'], y=top_emotions_df.index, orient=\"h\")\n",
        "plt.title(\"Frecuencia de Emociones\", fontdict={\"fontsize\":20, \"color\":\"black\"})\n",
        "plt.show()"
      ],
      "execution_count": null,
      "outputs": [
        {
          "output_type": "display_data",
          "data": {
            "image/png": "[encoded data removed]",
            "text/plain": [
              "<Figure size 432x288 with 1 Axes>"
            ]
          },
          "metadata": {
            "needs_background": "light"
          }
        }
      ]
    },
    {
      "cell_type": "code",
      "metadata": {
        "id": "F8r9Ox3tIT9b"
      },
      "source": [
        "emotions_dict = {\n",
        "    \"positive\" : [],\n",
        "    \"negative\" : [],\n",
        "    \"fear\" : [],\n",
        "    \"trust\" : []\n",
        "}\n",
        "\n",
        "for word in emotions_lex.words:\n",
        "  if word in emotions_lex.affect_dict:\n",
        "    for emotion in emotions_lex.affect_dict[word]:\n",
        "      if emotion in emotions_dict:\n",
        "        emotions_dict[emotion].append(word)"
      ],
      "execution_count": null,
      "outputs": []
    },
    {
      "cell_type": "code",
      "metadata": {
        "id": "QCtUPOE0eB-M",
        "colab": {
          "base_uri": "https://localhost:8080/",
          "height": 404
        },
        "outputId": "fdcd7f5f-787c-4ed9-e4c7-383219269d9a"
      },
      "source": [
        "positive_df =  pd.DataFrame.from_dict(Counter(emotions_dict['positive']),\n",
        "                                      orient='index', \n",
        "                                      columns=[\"count\"]).sort_values('count', ascending=False).head(10)\n",
        "display(Markdown(\"### **Top 10 de Palabras Positivas**\"))\n",
        "display(positive_df)"
      ],
      "execution_count": null,
      "outputs": [
        {
          "output_type": "display_data",
          "data": {
            "text/markdown": "### **Top 10 de Palabras Positivas**",
            "text/plain": [
              "<IPython.core.display.Markdown object>"
            ]
          },
          "metadata": {}
        },
        {
          "output_type": "display_data",
          "data": {
            "text/html": [
              "<div>\n",
              "<style scoped>\n",
              "    .dataframe tbody tr th:only-of-type {\n",
              "        vertical-align: middle;\n",
              "    }\n",
              "\n",
              "    .dataframe tbody tr th {\n",
              "        vertical-align: top;\n",
              "    }\n",
              "\n",
              "    .dataframe thead th {\n",
              "        text-align: right;\n",
              "    }\n",
              "</style>\n",
              "<table border=\"1\" class=\"dataframe\">\n",
              "  <thead>\n",
              "    <tr style=\"text-align: right;\">\n",
              "      <th></th>\n",
              "      <th>count</th>\n",
              "    </tr>\n",
              "  </thead>\n",
              "  <tbody>\n",
              "    <tr>\n",
              "      <th>master</th>\n",
              "      <td>61</td>\n",
              "    </tr>\n",
              "    <tr>\n",
              "      <th>king</th>\n",
              "      <td>61</td>\n",
              "    </tr>\n",
              "    <tr>\n",
              "      <th>lord</th>\n",
              "      <td>54</td>\n",
              "    </tr>\n",
              "    <tr>\n",
              "      <th>good</th>\n",
              "      <td>47</td>\n",
              "    </tr>\n",
              "    <tr>\n",
              "      <th>friend</th>\n",
              "      <td>40</td>\n",
              "    </tr>\n",
              "    <tr>\n",
              "      <th>tree</th>\n",
              "      <td>35</td>\n",
              "    </tr>\n",
              "    <tr>\n",
              "      <th>love</th>\n",
              "      <td>25</td>\n",
              "    </tr>\n",
              "    <tr>\n",
              "      <th>hope</th>\n",
              "      <td>22</td>\n",
              "    </tr>\n",
              "    <tr>\n",
              "      <th>save</th>\n",
              "      <td>20</td>\n",
              "    </tr>\n",
              "    <tr>\n",
              "      <th>land</th>\n",
              "      <td>20</td>\n",
              "    </tr>\n",
              "  </tbody>\n",
              "</table>\n",
              "</div>"
            ],
            "text/plain": [
              "        count\n",
              "master     61\n",
              "king       61\n",
              "lord       54\n",
              "good       47\n",
              "friend     40\n",
              "tree       35\n",
              "love       25\n",
              "hope       22\n",
              "save       20\n",
              "land       20"
            ]
          },
          "metadata": {}
        }
      ]
    },
    {
      "cell_type": "code",
      "metadata": {
        "id": "cBYMVNCF60vZ",
        "colab": {
          "base_uri": "https://localhost:8080/",
          "height": 300
        },
        "outputId": "152c1d8e-f8eb-4434-caa4-62ca9f0e4bec"
      },
      "source": [
        "sns.barplot(data=positive_df, x=positive_df['count'], y=positive_df.index, orient=\"h\",color='greenyellow')\n",
        "plt.title(\"Emociones Positivas\", fontdict={\"fontsize\":20, \"color\":\"black\"})\n",
        "plt.show()"
      ],
      "execution_count": null,
      "outputs": [
        {
          "output_type": "display_data",
          "data": {
            "image/png": "[encoded data removed]",
            "text/plain": [
              "<Figure size 432x288 with 1 Axes>"
            ]
          },
          "metadata": {
            "needs_background": "light"
          }
        }
      ]
    },
    {
      "cell_type": "code",
      "metadata": {
        "id": "8LdqujBle2Tq",
        "colab": {
          "base_uri": "https://localhost:8080/",
          "height": 404
        },
        "outputId": "7b128358-8936-4ecd-fdaa-5e6ca20a5032"
      },
      "source": [
        "negative_df =  pd.DataFrame.from_dict(Counter(emotions_dict['negative']),\n",
        "                                      orient='index', \n",
        "                                      columns=[\"count\"]).sort_values('count', ascending=False).head(10)\n",
        "\n",
        "display(Markdown(\"### **Top 10 Palabras Negativas**\"))\n",
        "display(negative_df)"
      ],
      "execution_count": null,
      "outputs": [
        {
          "output_type": "display_data",
          "data": {
            "text/markdown": "### **Top 10 Palabras Negativas**",
            "text/plain": [
              "<IPython.core.display.Markdown object>"
            ]
          },
          "metadata": {}
        },
        {
          "output_type": "display_data",
          "data": {
            "text/html": [
              "<div>\n",
              "<style scoped>\n",
              "    .dataframe tbody tr th:only-of-type {\n",
              "        vertical-align: middle;\n",
              "    }\n",
              "\n",
              "    .dataframe tbody tr th {\n",
              "        vertical-align: top;\n",
              "    }\n",
              "\n",
              "    .dataframe thead th {\n",
              "        text-align: right;\n",
              "    }\n",
              "</style>\n",
              "<table border=\"1\" class=\"dataframe\">\n",
              "  <thead>\n",
              "    <tr style=\"text-align: right;\">\n",
              "      <th></th>\n",
              "      <th>count</th>\n",
              "    </tr>\n",
              "  </thead>\n",
              "  <tbody>\n",
              "    <tr>\n",
              "      <th>lord</th>\n",
              "      <td>54</td>\n",
              "    </tr>\n",
              "    <tr>\n",
              "      <th>death</th>\n",
              "      <td>37</td>\n",
              "    </tr>\n",
              "    <tr>\n",
              "      <th>war</th>\n",
              "      <td>37</td>\n",
              "    </tr>\n",
              "    <tr>\n",
              "      <th>orc</th>\n",
              "      <td>34</td>\n",
              "    </tr>\n",
              "    <tr>\n",
              "      <th>fight</th>\n",
              "      <td>31</td>\n",
              "    </tr>\n",
              "    <tr>\n",
              "      <th>die</th>\n",
              "      <td>29</td>\n",
              "    </tr>\n",
              "    <tr>\n",
              "      <th>fall</th>\n",
              "      <td>27</td>\n",
              "    </tr>\n",
              "    <tr>\n",
              "      <th>kill</th>\n",
              "      <td>26</td>\n",
              "    </tr>\n",
              "    <tr>\n",
              "      <th>lie</th>\n",
              "      <td>23</td>\n",
              "    </tr>\n",
              "    <tr>\n",
              "      <th>fear</th>\n",
              "      <td>23</td>\n",
              "    </tr>\n",
              "  </tbody>\n",
              "</table>\n",
              "</div>"
            ],
            "text/plain": [
              "       count\n",
              "lord      54\n",
              "death     37\n",
              "war       37\n",
              "orc       34\n",
              "fight     31\n",
              "die       29\n",
              "fall      27\n",
              "kill      26\n",
              "lie       23\n",
              "fear      23"
            ]
          },
          "metadata": {}
        }
      ]
    },
    {
      "cell_type": "code",
      "metadata": {
        "id": "eZQOw_Mx8zRv",
        "colab": {
          "base_uri": "https://localhost:8080/",
          "height": 300
        },
        "outputId": "79d12453-0897-43a7-d07f-1bf1d3758351"
      },
      "source": [
        "sns.barplot(data=negative_df, x=negative_df['count'], y=negative_df.index, orient=\"h\",color='orangered')\n",
        "plt.title(\"Emociones Negativas\", fontdict={\"fontsize\":20, \"color\":\"black\"})\n",
        "plt.show()"
      ],
      "execution_count": null,
      "outputs": [
        {
          "output_type": "display_data",
          "data": {
            "image/png": "[encoded data removed]",
            "text/plain": [
              "<Figure size 432x288 with 1 Axes>"
            ]
          },
          "metadata": {
            "needs_background": "light"
          }
        }
      ]
    },
    {
      "cell_type": "code",
      "metadata": {
        "id": "vdqtqTkKfJrp",
        "colab": {
          "base_uri": "https://localhost:8080/",
          "height": 404
        },
        "outputId": "28861a26-9452-432d-edd9-c1b335aaccbe"
      },
      "source": [
        "fear_df =  pd.DataFrame.from_dict(Counter(emotions_dict['fear']),\n",
        "                                      orient='index', \n",
        "                                      columns=[\"count\"]).sort_values('count', ascending=False).head(10)\n",
        "\n",
        "display(Markdown(\"### **Top 10 de palabras de emocion de miedo**\"))\n",
        "display(fear_df)"
      ],
      "execution_count": null,
      "outputs": [
        {
          "output_type": "display_data",
          "data": {
            "text/markdown": "### **Top 10 de palabras de emocion de miedo**",
            "text/plain": [
              "<IPython.core.display.Markdown object>"
            ]
          },
          "metadata": {}
        },
        {
          "output_type": "display_data",
          "data": {
            "text/html": [
              "<div>\n",
              "<style scoped>\n",
              "    .dataframe tbody tr th:only-of-type {\n",
              "        vertical-align: middle;\n",
              "    }\n",
              "\n",
              "    .dataframe tbody tr th {\n",
              "        vertical-align: top;\n",
              "    }\n",
              "\n",
              "    .dataframe thead th {\n",
              "        text-align: right;\n",
              "    }\n",
              "</style>\n",
              "<table border=\"1\" class=\"dataframe\">\n",
              "  <thead>\n",
              "    <tr style=\"text-align: right;\">\n",
              "      <th></th>\n",
              "      <th>count</th>\n",
              "    </tr>\n",
              "  </thead>\n",
              "  <tbody>\n",
              "    <tr>\n",
              "      <th>death</th>\n",
              "      <td>37</td>\n",
              "    </tr>\n",
              "    <tr>\n",
              "      <th>war</th>\n",
              "      <td>37</td>\n",
              "    </tr>\n",
              "    <tr>\n",
              "      <th>orc</th>\n",
              "      <td>34</td>\n",
              "    </tr>\n",
              "    <tr>\n",
              "      <th>fight</th>\n",
              "      <td>31</td>\n",
              "    </tr>\n",
              "    <tr>\n",
              "      <th>die</th>\n",
              "      <td>29</td>\n",
              "    </tr>\n",
              "    <tr>\n",
              "      <th>kill</th>\n",
              "      <td>26</td>\n",
              "    </tr>\n",
              "    <tr>\n",
              "      <th>fire</th>\n",
              "      <td>26</td>\n",
              "    </tr>\n",
              "    <tr>\n",
              "      <th>fear</th>\n",
              "      <td>23</td>\n",
              "    </tr>\n",
              "    <tr>\n",
              "      <th>ill</th>\n",
              "      <td>19</td>\n",
              "    </tr>\n",
              "    <tr>\n",
              "      <th>watch</th>\n",
              "      <td>18</td>\n",
              "    </tr>\n",
              "  </tbody>\n",
              "</table>\n",
              "</div>"
            ],
            "text/plain": [
              "       count\n",
              "death     37\n",
              "war       37\n",
              "orc       34\n",
              "fight     31\n",
              "die       29\n",
              "kill      26\n",
              "fire      26\n",
              "fear      23\n",
              "ill       19\n",
              "watch     18"
            ]
          },
          "metadata": {}
        }
      ]
    },
    {
      "cell_type": "code",
      "metadata": {
        "id": "Z0oGvXDv9Iu5",
        "colab": {
          "base_uri": "https://localhost:8080/",
          "height": 300
        },
        "outputId": "44c8d1fc-293c-475d-bc17-62d61aab6253"
      },
      "source": [
        "sns.barplot(data=fear_df, x=fear_df['count'], y=fear_df.index, orient=\"h\",color='slategrey')\n",
        "plt.title(\"Palabras de Miedo\", fontdict={\"fontsize\":20, \"color\":\"black\"})\n",
        "plt.show()"
      ],
      "execution_count": null,
      "outputs": [
        {
          "output_type": "display_data",
          "data": {
            "image/png": "[encoded data removed]",
            "text/plain": [
              "<Figure size 432x288 with 1 Axes>"
            ]
          },
          "metadata": {
            "needs_background": "light"
          }
        }
      ]
    },
    {
      "cell_type": "code",
      "metadata": {
        "id": "LdRhR0MefU4U",
        "colab": {
          "base_uri": "https://localhost:8080/",
          "height": 404
        },
        "outputId": "e0894e24-7a4b-42a7-d6a4-9b516c717f5c"
      },
      "source": [
        "trust_df =  pd.DataFrame.from_dict(Counter(emotions_dict['trust']),orient='index', \n",
        "                                      columns=[\"count\"]).sort_values('count', ascending=False).head(10)\n",
        "display(Markdown(\"### **Top 10 Palabras de Confianza**\"))\n",
        "display(trust_df)"
      ],
      "execution_count": null,
      "outputs": [
        {
          "output_type": "display_data",
          "data": {
            "text/markdown": "### **Top 10 Palabras de Confianza**",
            "text/plain": [
              "<IPython.core.display.Markdown object>"
            ]
          },
          "metadata": {}
        },
        {
          "output_type": "display_data",
          "data": {
            "text/html": [
              "<div>\n",
              "<style scoped>\n",
              "    .dataframe tbody tr th:only-of-type {\n",
              "        vertical-align: middle;\n",
              "    }\n",
              "\n",
              "    .dataframe tbody tr th {\n",
              "        vertical-align: top;\n",
              "    }\n",
              "\n",
              "    .dataframe thead th {\n",
              "        text-align: right;\n",
              "    }\n",
              "</style>\n",
              "<table border=\"1\" class=\"dataframe\">\n",
              "  <thead>\n",
              "    <tr style=\"text-align: right;\">\n",
              "      <th></th>\n",
              "      <th>count</th>\n",
              "    </tr>\n",
              "  </thead>\n",
              "  <tbody>\n",
              "    <tr>\n",
              "      <th>lord</th>\n",
              "      <td>54</td>\n",
              "    </tr>\n",
              "    <tr>\n",
              "      <th>good</th>\n",
              "      <td>47</td>\n",
              "    </tr>\n",
              "    <tr>\n",
              "      <th>friend</th>\n",
              "      <td>40</td>\n",
              "    </tr>\n",
              "    <tr>\n",
              "      <th>tree</th>\n",
              "      <td>35</td>\n",
              "    </tr>\n",
              "    <tr>\n",
              "      <th>father</th>\n",
              "      <td>24</td>\n",
              "    </tr>\n",
              "    <tr>\n",
              "      <th>gate</th>\n",
              "      <td>24</td>\n",
              "    </tr>\n",
              "    <tr>\n",
              "      <th>hope</th>\n",
              "      <td>22</td>\n",
              "    </tr>\n",
              "    <tr>\n",
              "      <th>save</th>\n",
              "      <td>20</td>\n",
              "    </tr>\n",
              "    <tr>\n",
              "      <th>word</th>\n",
              "      <td>16</td>\n",
              "    </tr>\n",
              "    <tr>\n",
              "      <th>white</th>\n",
              "      <td>16</td>\n",
              "    </tr>\n",
              "  </tbody>\n",
              "</table>\n",
              "</div>"
            ],
            "text/plain": [
              "        count\n",
              "lord       54\n",
              "good       47\n",
              "friend     40\n",
              "tree       35\n",
              "father     24\n",
              "gate       24\n",
              "hope       22\n",
              "save       20\n",
              "word       16\n",
              "white      16"
            ]
          },
          "metadata": {}
        }
      ]
    },
    {
      "cell_type": "code",
      "metadata": {
        "id": "ROQNVhOu9hF5",
        "colab": {
          "base_uri": "https://localhost:8080/",
          "height": 300
        },
        "outputId": "a6e9bcc2-a9ea-4bec-da8b-c91ce8e9b5a6"
      },
      "source": [
        "sns.barplot(data=trust_df, x=trust_df['count'], y=trust_df.index, orient=\"h\",color='dodgerblue')\n",
        "plt.title(\"Palabras de Confianza\", fontdict={\"fontsize\":20, \"color\":\"black\"})\n",
        "plt.show()"
      ],
      "execution_count": null,
      "outputs": [
        {
          "output_type": "display_data",
          "data": {
            "image/png": "[encoded data removed]",
            "text/plain": [
              "<Figure size 432x288 with 1 Axes>"
            ]
          },
          "metadata": {
            "needs_background": "light"
          }
        }
      ]
    },
    {
      "cell_type": "code",
      "metadata": {
        "id": "SxLSD_mNkDM7"
      },
      "source": [
        "#Vader\n",
        "cleaned_dialogs_df = pd.read_csv(\"lotr_cleaned_dialogs.csv\")\n",
        "cleaned_dialogs_df.columns=['index', 'personaje','dialogo']\n",
        "\n",
        "sid = SentimentIntensityAnalyzer()\n",
        "\n",
        "def getSentimental(personaje, dialogs):\n",
        "    global sentimientos\n",
        "    filtro_personaje = dialogs['personaje'] == personaje\n",
        "    dialogos_pesonaje = dialogs[filtro_personaje]\n",
        "    \n",
        "    neg, neu, pos, counter = 0,0,0,0\n",
        "\n",
        "    for dialogo in dialogos_pesonaje['dialogo']:\n",
        "        results = sid.polarity_scores(str(dialogo))\n",
        "        neg += results['neg']\n",
        "        neu += results['neu']\n",
        "        pos += results['pos']\n",
        "        counter += 1        \n",
        "        \n",
        "    #adding mean of sentimental analysis   \n",
        "    sentimientos = sentimientos.append({'character': personaje, 'neg':neg/counter, 'neu':neu/counter, 'pos':pos/counter},ignore_index = True) "
      ],
      "execution_count": null,
      "outputs": []
    },
    {
      "cell_type": "code",
      "metadata": {
        "id": "HRK6Ihx6loyf",
        "colab": {
          "base_uri": "https://localhost:8080/",
          "height": 364
        },
        "outputId": "1be044a7-345b-424b-e4fa-b41440bba5fd"
      },
      "source": [
        "#Dataframe for total sentimental analysis\n",
        "sentimientos = pd.DataFrame(columns = ['character','neg','neu','pos'])\n",
        "\n",
        "talkatives = [\"FRODO\",\"SAM\",\"GANDALF\",\"ARAGORN\",\"PIPPIN\",\"MERRY\",\"GOLLUM\",\"GIMLI\",\"THEODEN\",\"FARAMIR\"]\n",
        "\n",
        "for person in talkatives:\n",
        "  getSentimental(person,cleaned_dialogs_df)\n",
        "  \n",
        "sentimientos"
      ],
      "execution_count": null,
      "outputs": [
        {
          "output_type": "execute_result",
          "data": {
            "text/html": [
              "<div>\n",
              "<style scoped>\n",
              "    .dataframe tbody tr th:only-of-type {\n",
              "        vertical-align: middle;\n",
              "    }\n",
              "\n",
              "    .dataframe tbody tr th {\n",
              "        vertical-align: top;\n",
              "    }\n",
              "\n",
              "    .dataframe thead th {\n",
              "        text-align: right;\n",
              "    }\n",
              "</style>\n",
              "<table border=\"1\" class=\"dataframe\">\n",
              "  <thead>\n",
              "    <tr style=\"text-align: right;\">\n",
              "      <th></th>\n",
              "      <th>character</th>\n",
              "      <th>neg</th>\n",
              "      <th>neu</th>\n",
              "      <th>pos</th>\n",
              "    </tr>\n",
              "  </thead>\n",
              "  <tbody>\n",
              "    <tr>\n",
              "      <th>0</th>\n",
              "      <td>FRODO</td>\n",
              "      <td>0.045676</td>\n",
              "      <td>0.860707</td>\n",
              "      <td>0.089169</td>\n",
              "    </tr>\n",
              "    <tr>\n",
              "      <th>1</th>\n",
              "      <td>SAM</td>\n",
              "      <td>0.106194</td>\n",
              "      <td>0.819310</td>\n",
              "      <td>0.074491</td>\n",
              "    </tr>\n",
              "    <tr>\n",
              "      <th>2</th>\n",
              "      <td>GANDALF</td>\n",
              "      <td>0.111995</td>\n",
              "      <td>0.768102</td>\n",
              "      <td>0.119898</td>\n",
              "    </tr>\n",
              "    <tr>\n",
              "      <th>3</th>\n",
              "      <td>ARAGORN</td>\n",
              "      <td>0.079243</td>\n",
              "      <td>0.867389</td>\n",
              "      <td>0.053357</td>\n",
              "    </tr>\n",
              "    <tr>\n",
              "      <th>4</th>\n",
              "      <td>PIPPIN</td>\n",
              "      <td>0.072319</td>\n",
              "      <td>0.851233</td>\n",
              "      <td>0.076436</td>\n",
              "    </tr>\n",
              "    <tr>\n",
              "      <th>5</th>\n",
              "      <td>MERRY</td>\n",
              "      <td>0.041409</td>\n",
              "      <td>0.866036</td>\n",
              "      <td>0.092577</td>\n",
              "    </tr>\n",
              "    <tr>\n",
              "      <th>6</th>\n",
              "      <td>GOLLUM</td>\n",
              "      <td>0.153188</td>\n",
              "      <td>0.746699</td>\n",
              "      <td>0.092586</td>\n",
              "    </tr>\n",
              "    <tr>\n",
              "      <th>7</th>\n",
              "      <td>GIMLI</td>\n",
              "      <td>0.115026</td>\n",
              "      <td>0.785670</td>\n",
              "      <td>0.099322</td>\n",
              "    </tr>\n",
              "    <tr>\n",
              "      <th>8</th>\n",
              "      <td>THEODEN</td>\n",
              "      <td>0.117600</td>\n",
              "      <td>0.812800</td>\n",
              "      <td>0.069618</td>\n",
              "    </tr>\n",
              "    <tr>\n",
              "      <th>9</th>\n",
              "      <td>FARAMIR</td>\n",
              "      <td>0.095092</td>\n",
              "      <td>0.803292</td>\n",
              "      <td>0.101600</td>\n",
              "    </tr>\n",
              "  </tbody>\n",
              "</table>\n",
              "</div>"
            ],
            "text/plain": [
              "  character       neg       neu       pos\n",
              "0     FRODO  0.045676  0.860707  0.089169\n",
              "1       SAM  0.106194  0.819310  0.074491\n",
              "2   GANDALF  0.111995  0.768102  0.119898\n",
              "3   ARAGORN  0.079243  0.867389  0.053357\n",
              "4    PIPPIN  0.072319  0.851233  0.076436\n",
              "5     MERRY  0.041409  0.866036  0.092577\n",
              "6    GOLLUM  0.153188  0.746699  0.092586\n",
              "7     GIMLI  0.115026  0.785670  0.099322\n",
              "8   THEODEN  0.117600  0.812800  0.069618\n",
              "9   FARAMIR  0.095092  0.803292  0.101600"
            ]
          },
          "metadata": {},
          "execution_count": 84
        }
      ]
    },
    {
      "cell_type": "code",
      "metadata": {
        "id": "9JJiY7mElq5j",
        "colab": {
          "base_uri": "https://localhost:8080/",
          "height": 300
        },
        "outputId": "fd7c046c-a5ca-4f05-f174-77cf757f8110"
      },
      "source": [
        "#Graphics sentimental by character\n",
        "sns.barplot(data=sentimientos.sort_values('neg',ascending=False), x='neg', y='character', orient=\"h\", color=\"orangered\")\n",
        "plt.title(\"Dialogos Negativos por Personaje\", fontdict={\"fontsize\":20, \"color\":\"black\"})\n",
        "plt.show()"
      ],
      "execution_count": null,
      "outputs": [
        {
          "output_type": "display_data",
          "data": {
            "image/png": "[encoded data removed]",
            "text/plain": [
              "<Figure size 432x288 with 1 Axes>"
            ]
          },
          "metadata": {
            "needs_background": "light"
          }
        }
      ]
    },
    {
      "cell_type": "code",
      "metadata": {
        "id": "suhvlVCHmTl9",
        "colab": {
          "base_uri": "https://localhost:8080/",
          "height": 300
        },
        "outputId": "bcc67591-ec86-4601-d4e0-471882a324ca"
      },
      "source": [
        "sns.barplot(data=sentimientos.sort_values('pos',ascending=False), x='pos', y='character', orient=\"h\", color='greenyellow')\n",
        "plt.title(\"Dialogos Positivos por Personaje\", fontdict={\"fontsize\":20, \"color\":\"black\"})\n",
        "plt.show()"
      ],
      "execution_count": null,
      "outputs": [
        {
          "output_type": "display_data",
          "data": {
            "image/png": "[encoded data removed]",
            "text/plain": [
              "<Figure size 432x288 with 1 Axes>"
            ]
          },
          "metadata": {
            "needs_background": "light"
          }
        }
      ]
    }
  ]
}