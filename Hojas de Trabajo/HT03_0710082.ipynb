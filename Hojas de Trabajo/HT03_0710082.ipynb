{
 "cells": [
  {
   "cell_type": "markdown",
   "id": "2d07d094-232a-4d50-a9ca-b03552a08e0b",
   "metadata": {},
   "source": [
    "### **UNIVERSIDAD GALILEO**\n",
    "#### Instituto de Investigación de Operaciones\n",
    "#### Posgrado en Análisis y Predicción de Datos\n",
    "##### Luis Florian, 0710082"
   ]
  },
  {
   "cell_type": "markdown",
   "id": "a909c58a-2a5c-433b-91a0-dc03b252986c",
   "metadata": {},
   "source": [
    "#### **Hoja de Trabajo # 3**"
   ]
  },
  {
   "cell_type": "markdown",
   "id": "d6902567-9931-4012-bbd2-7da767e2c830",
   "metadata": {},
   "source": [
    "**Partes de una Oración**\n",
    "\n",
    "Las oraciones son utilizadas por los humanos como un medio de comunicación para transmitir nuestro sentir o alguna idea o pensamiento. Cuentan con 9 partes, las cuales 5 son variables y 4 invariables.\n",
    "\n",
    "**Partes variables de la Oración**\n",
    "\n",
    "**Sustantivo**\n",
    "\n",
    "Este representa el nombre de una persona, animal o cosa. Estos pueden ser nombres propios o conceptos abstractos.\n",
    "\n",
    "Ejemplo: Luis, Guatemala, gato, perro\n",
    "\n",
    "**Articulo**\n",
    "\n",
    "Parte de la oración que se antepone al sustantivo, este varía dependiendo el género y cuantificación.\n",
    "\n",
    "Ejemplo: El Gato, Las personas, Un perro.\n",
    "\n",
    "**Pronombre**\n",
    "\n",
    "Palabra que se utiliza para nombrar una persona o cosa sin emplear su nombre común o propio.\n",
    "\n",
    "Ejemplos:\n",
    "\n",
    "Yo hice conducí mi auto\n",
    "\n",
    "**Verbo**\n",
    "\n",
    "Es la parte de la oración que expresa una acción, este se conjuga dependiendo la persona, el tiempo y el modo (indicativo, imperativo, gerundio, etc.)\n",
    "\n",
    "Ejemplo: correr, saltar\n",
    "\n",
    "\n",
    "**Partes Invariables de la Oración**\n",
    "\n",
    "**Adverbio**\n",
    "\n",
    "Son palabras que complementan un verbo, adjetivo u otro adverbio.\n",
    "\n",
    "Ejemplo: Juan juega futball cerca de su casa.  \n",
    "\n",
    "**Preposición**\n",
    "\n",
    "Palabras de la oración que enlaza dos palabras con el fin de brindar una relación entre ellas. Entre estas encontramos las palabras: a, ante, con, desde, en, hasta, hacía, etc.\n",
    "\n",
    "Ejemplo: Josue fue a comer No se puede vivir sin agua.\n",
    "\n",
    "**Conjunción**\n",
    "\n",
    "Palabras de la oración que sirve para enlazar frases u oraciones. Entre estas encontramos las palabras: y, o, ni, pero, etc.\n",
    "\n",
    "Ejemplos:\n",
    "\n",
    "Yo tengo un perro y mi hermano un perico.\n",
    "\n",
    "**Interjección**\n",
    "\n",
    "Palabras de la oración que son expresadas en tono exclamativo con el fin de representar, sorpresa, dolor, alegría, etc.\n",
    "\n",
    "Ejemplos:\n",
    "\n",
    "¡Basta!, paren esta masacre."
   ]
  },
  {
   "cell_type": "markdown",
   "id": "f34a4dbd-cb26-4de4-8450-e56d082046e0",
   "metadata": {},
   "source": [
    "**Problema 2**"
   ]
  },
  {
   "cell_type": "markdown",
   "id": "8c7b526b-a2f1-4404-ba91-f9eaa3b693fa",
   "metadata": {},
   "source": [
    "**¿Qué es NLP (Procesamiento de Lenguaje Natural)?**\n",
    "\n",
    "El Procesamiento de Lenguaje Natural es una rama de la inteligencia artificial que estudia la interacción entre el lenguaje humano y las máquinas.\n",
    "\n",
    "Esta rama tiene como objetivo recolectar, parsear y dar sentido a la información por medio de análisis semánticos, y ser utilizado para identificar temas de interés en un texto, generar resúmenes, identificación de emociones, traducir idiomas, clasificación de textos, asistentes de voz, speech-to-text, entre muchas otras aplicaciones.\n",
    "Técnicas de NLP\n",
    "\n",
    "Existen varias técnicas para el procesamiento de lenguaje natural, a continuación se mencionan algunas de ellas:\n",
    "\n",
    "* **Tokenización:** Técnica que permite dividir el texto en unidades llamadas tokens la cual nos ayuda a la limpieza de datos ya que podemos remover tokens que no nos sirvan como signos de puntuación.\n",
    "\n",
    "* **Lematización:** Técnica que nos permite reducir la cantidad de palabras diferentes que tienen el mismo significado, esto se logra buscando el lema de una palabra flexionada, es decir, quitando conjugaciones, plural o género de una palabra.\n",
    "\n",
    "* **Eliminar stopwords:** Las stopwords son palabras que carecen de valor por sí solas, como los artículos, pronombres y preposiciones. Estas son filtradas previo a realizar NLP.\n",
    "\n",
    "* **Bag of words:** Es una técnica utilizada para representar la cantidad de veces que aparece un token en una oración.\n",
    "\n",
    "* **Word2vec:** Técnica que se basa en leer grandes cantidades de textos e identificar cuáles palabras son similares en diferentes contextos. El objetivo final de esta técnica es generar vectores de 3 dimensiones que permitan agrupar palabras que tengan relación entre sí.\n",
    "\n"
   ]
  },
  {
   "cell_type": "markdown",
   "id": "2a27b995-d58d-4baa-bb8e-4734d99cba0b",
   "metadata": {},
   "source": [
    "**Problema 3**"
   ]
  },
  {
   "cell_type": "markdown",
   "id": "cd5f36df-0e1d-4485-bbcb-66f6516459c1",
   "metadata": {},
   "source": [
    "Utilice expresiones regulares para validar las siguintes situaciones:\n",
    "\n",
    "* Implemente una regex para validar un correo electrónico en general, a continuación se muestran algunos ejemplos.\n",
    "        Guate.360-porelmundo@miguate.com\n",
    "        Miercoles3@hotmail.com\n",
    "        Progra3.galileo@galileo.edu\n"
   ]
  },
  {
   "cell_type": "raw",
   "id": "f4d58b5f-5dc8-43d3-9e87-351cf00ca1c0",
   "metadata": {},
   "source": [
    "\\w[^@]+@[\\w-]+\\.\\w+"
   ]
  },
  {
   "cell_type": "markdown",
   "id": "f0e96188-8266-4b2c-a143-4549f5f7a179",
   "metadata": {},
   "source": [
    "Implemente una regex para validar la dirección url de una página web con los tipos de domino (.com, .org, .edu). Note que la url incluye el protocolo (http o https) y los símbolos (//www.), a continuación se muestran algunos ejemplos:\n",
    "\n",
    "    https://www.guate360-porelmundo.com\n",
    "    http://www.a2.net\n",
    "    https://www.galileo.edu\n",
    "    http://www.8.org (No válida)\n"
   ]
  },
  {
   "cell_type": "raw",
   "id": "4e368167-2aa2-45d9-a138-5467646b6f3f",
   "metadata": {},
   "source": [
    "https?:\\/\\/www\\..*\\.(com|org|edu)"
   ]
  },
  {
   "cell_type": "markdown",
   "id": "38006c55-33e7-4844-aac4-c5788126d360",
   "metadata": {},
   "source": [
    "Implemente una regex para validar una MAC Address, notar que las mac addres están divididas en 6 bloques de caracteres hexadecimales, es decir que los símbolos solo pueden variar del 0 al 9 y las letras de la A a la F. a continuación se muestran algunos ejemplos:\n",
    "\n",
    "    5A 6F AF 8C 9B 1D\n",
    "    6D 6C 4D 3A EB 3F\n",
    "    3A 7C FA C8 6D 4J (no válida por que el último bloque contiene una J)"
   ]
  },
  {
   "cell_type": "raw",
   "id": "69398ed2-745c-4e81-8143-acc682de9e10",
   "metadata": {},
   "source": [
    "([A-Fa-f0-9]{2}\\s?){6}"
   ]
  },
  {
   "cell_type": "markdown",
   "id": "8340ef99-b8fc-4d45-9a99-84606c602ba0",
   "metadata": {},
   "source": [
    "Implemente una regex para validar una direcci´on IPv4, notar que las direcciones IPv4 están divididas en 4 bloques de valores los cuales solo pueden ir desde 0 hasta 255, una ip donde algunos de sus bloques sea mayor a 255 no es valida, adem´as tome en cuenta que cada bloque está separada por un punto. A continuaci´on se muestran algunos ejemplos:\n",
    "\n",
    "    192.16.8.1\n",
    "    234.56.78.90\n",
    "    1.2.3.4\n",
    "    192.168.45.345 (no valida por que el ultimo bloque es mayor a 255)\n"
   ]
  },
  {
   "cell_type": "markdown",
   "id": "9cab10b8-ff55-4e8b-84a5-75acd03e43ca",
   "metadata": {},
   "source": [
    "\\b((1[0-9]{2}|2[0-4][0-9]|25[0-5]|[1-9]?[0-9])\\.){3}(1[0-9]{2}|2[0-4][0-9]|25[0-5]|[1-9]?[0-9])\\b"
   ]
  },
  {
   "cell_type": "markdown",
   "id": "a6433144-9171-4a72-bb96-21d71bc0cc88",
   "metadata": {},
   "source": [
    "Implemente una regex para validar una fecha con la secuencia día-mes-año donde el día, mes y año puedan estar separados ya sea por el caracter / o el caracter - o el caracter ., notar que las fechas son validas si los si los días están definidos desde el 1 al 31, el mes del 1 al 12 y el año de 2000 al 2019. También debe tomar en cuenta que los días y meses pueden estar escritos ya sea con uno o dos caracteres por ejemplo: Enero puede escribirse como 1 o como 01. Los años también pueden expresarse ya sea con dos o con cuatro caracteres por ejemplo: 19 o 2019 son válidos. A continuación se muestran algunos ejemplos:\n",
    "\n",
    "    20/1/2019\n",
    "    12.03.2005\n",
    "    31-11-08\n",
    "    1-1-2012\n",
    "    12-12-22 (no valida, por que el a~no supera al 2019).\n"
   ]
  },
  {
   "cell_type": "raw",
   "id": "c018bfed-8ea8-4a04-a6ef-557b5b824949",
   "metadata": {},
   "source": [
    "([12][0-9]|3[01]|0?[1-9])[/\\.-](1[012]|0?[1-9])[/\\.-](20[01][0-9]|[01][0-9])"
   ]
  }
 ],
 "metadata": {
  "kernelspec": {
   "display_name": "textm",
   "language": "python",
   "name": "textm"
  },
  "language_info": {
   "codemirror_mode": {
    "name": "ipython",
    "version": 3
   },
   "file_extension": ".py",
   "mimetype": "text/x-python",
   "name": "python",
   "nbconvert_exporter": "python",
   "pygments_lexer": "ipython3",
   "version": "3.8.11"
  }
 },
 "nbformat": 4,
 "nbformat_minor": 5
}
